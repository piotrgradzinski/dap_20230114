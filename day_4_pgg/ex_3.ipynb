{
 "cells": [
  {
   "cell_type": "markdown",
   "id": "1e3ed208",
   "metadata": {},
   "source": [
    "# Ex 3\n",
    "\n",
    "Perform the following operations using NumPy ndarray:\n",
    "\n",
    "- create a 10x10 matrix with squares of numbers from 1 to 100\n",
    "```\n",
    "[[    1     4     9    16    25    36    49    64    81   100]\n",
    " [  121   144   169   196   225   256   289   324   361   400]\n",
    " [  441   484   529   576   625   676   729   784   841   900]\n",
    " [  961  1024  1089  1156  1225  1296  1369  1444  1521  1600]\n",
    " [ 1681  1764  1849  1936  2025  2116  2209  2304  2401  2500]\n",
    " [ 2601  2704  2809  2916  3025  3136  3249  3364  3481  3600]\n",
    " [ 3721  3844  3969  4096  4225  4356  4489  4624  4761  4900]\n",
    " [ 5041  5184  5329  5476  5625  5776  5929  6084  6241  6400]\n",
    " [ 6561  6724  6889  7056  7225  7396  7569  7744  7921  8100]\n",
    " [ 8281  8464  8649  8836  9025  9216  9409  9604  9801 10000]]\n",
    "```\n",
    "\n",
    "- create a 5x5 matrix with 0 at the edges and 1 at the center\n",
    "```\n",
    "[[0. 0. 0. 0. 0.]\n",
    " [0. 1. 1. 1. 0.]\n",
    " [0. 1. 1. 1. 0.]\n",
    " [0. 1. 1. 1. 0.]\n",
    " [0. 0. 0. 0. 0.]]\n",
    "```\n",
    "\n",
    "- create a multiplication table for numbers from 0 to 9 in the form of a two-dimensional matrix\n",
    "```\n",
    "[[ 0  0  0  0  0  0  0  0  0  0]\n",
    " [ 0  1  2  3  4  5  6  7  8  9]\n",
    " [ 0  2  4  6  8 10 12 14 16 18]\n",
    " [ 0  3  6  9 12 15 18 21 24 27]\n",
    " [ 0  4  8 12 16 20 24 28 32 36]\n",
    " [ 0  5 10 15 20 25 30 35 40 45]\n",
    " [ 0  6 12 18 24 30 36 42 48 54]\n",
    " [ 0  7 14 21 28 35 42 49 56 63]\n",
    " [ 0  8 16 24 32 40 48 56 64 72]\n",
    " [ 0  9 18 27 36 45 54 63 72 81]]\n",
    "```"
   ]
  }
 ],
 "metadata": {
  "kernelspec": {
   "display_name": "Python 3.9.7 64-bit ('base': conda)",
   "language": "python",
   "name": "python397jvsc74a57bd040d3a090f54c6569ab1632332b64b2c03c39dcf918b08424e98f38b5ae0af88f"
  },
  "language_info": {
   "codemirror_mode": {
    "name": "ipython",
    "version": 3
   },
   "file_extension": ".py",
   "mimetype": "text/x-python",
   "name": "python",
   "nbconvert_exporter": "python",
   "pygments_lexer": "ipython3",
   "version": "3.9.7"
  }
 },
 "nbformat": 4,
 "nbformat_minor": 5
}
