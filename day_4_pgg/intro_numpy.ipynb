{
 "cells": [
  {
   "cell_type": "markdown",
   "id": "6da96980",
   "metadata": {},
   "source": [
    "# Intro to numpy library\n",
    "\n",
    "In a `markdown` cell we can use Markdown formatting. [Here is a cheatsheet.](https://github.com/adam-p/markdown-here/wiki/Markdown-Cheatsheet)\n",
    "\n",
    "My list:\n",
    "- first **element**\n",
    "- second *element*"
   ]
  },
  {
   "cell_type": "markdown",
   "id": "04622f55",
   "metadata": {},
   "source": [
    "## How Jupter Notebook works?"
   ]
  },
  {
   "cell_type": "code",
   "execution_count": 11,
   "id": "d59636c3",
   "metadata": {},
   "outputs": [],
   "source": [
    "first_name = 'Piotr'\n",
    "last_name = 'GG'"
   ]
  },
  {
   "cell_type": "code",
   "execution_count": 12,
   "id": "64698cbb",
   "metadata": {},
   "outputs": [
    {
     "name": "stdout",
     "output_type": "stream",
     "text": [
      "Piotr GG\n"
     ]
    }
   ],
   "source": [
    "print(first_name, last_name)"
   ]
  },
  {
   "cell_type": "markdown",
   "id": "a0ffed3d",
   "metadata": {},
   "source": [
    "To see the results of expressions or variables, etc. we don't have to use `print`. Last line of the code cell will be displayed in the output part of the cell."
   ]
  },
  {
   "cell_type": "code",
   "execution_count": 14,
   "id": "f12f8ab0",
   "metadata": {},
   "outputs": [
    {
     "data": {
      "text/plain": [
       "50"
      ]
     },
     "execution_count": 14,
     "metadata": {},
     "output_type": "execute_result"
    }
   ],
   "source": [
    "10 * 5"
   ]
  },
  {
   "cell_type": "code",
   "execution_count": 17,
   "id": "69ce1561",
   "metadata": {},
   "outputs": [
    {
     "data": {
      "text/plain": [
       "46"
      ]
     },
     "execution_count": 17,
     "metadata": {},
     "output_type": "execute_result"
    }
   ],
   "source": [
    "shoe_number = 46\n",
    "shoe_number"
   ]
  },
  {
   "cell_type": "code",
   "execution_count": 18,
   "id": "c966627d",
   "metadata": {},
   "outputs": [
    {
     "data": {
      "text/plain": [
       "{'first_name': 'Piotr', 'last_name': 'GG'}"
      ]
     },
     "execution_count": 18,
     "metadata": {},
     "output_type": "execute_result"
    }
   ],
   "source": [
    "my_dict = {\n",
    "    'first_name': 'Piotr',\n",
    "    'last_name': 'GG',\n",
    "}\n",
    "my_dict"
   ]
  },
  {
   "cell_type": "markdown",
   "id": "bc7cca88",
   "metadata": {},
   "source": [
    "## NumPy\n",
    "\n",
    "[Documentation](https://numpy.org/doc/1.24/index.html)\n",
    "\n",
    "NumPy, by default in Python installation is not available. But if we are using Anaconda, then NumPy, Pandas and other libraries are installed and we don't have to worry about them.\n",
    "\n",
    "When using Anaconda and Jupter Notebooks we are using different virtual environment (venv) than when using PyCharm."
   ]
  },
  {
   "cell_type": "code",
   "execution_count": 24,
   "id": "f2439413",
   "metadata": {},
   "outputs": [],
   "source": [
    "import numpy as np"
   ]
  },
  {
   "cell_type": "code",
   "execution_count": 25,
   "id": "eb6097a0",
   "metadata": {},
   "outputs": [
    {
     "data": {
      "text/plain": [
       "'1.20.3'"
      ]
     },
     "execution_count": 25,
     "metadata": {},
     "output_type": "execute_result"
    }
   ],
   "source": [
    "np.__version__"
   ]
  },
  {
   "cell_type": "markdown",
   "id": "ca99c609",
   "metadata": {},
   "source": [
    "`ndarray` - n-dimensional array"
   ]
  },
  {
   "cell_type": "code",
   "execution_count": 28,
   "id": "c6bf5780",
   "metadata": {},
   "outputs": [
    {
     "data": {
      "text/plain": [
       "(array([10, 20, 30]), numpy.ndarray)"
      ]
     },
     "execution_count": 28,
     "metadata": {},
     "output_type": "execute_result"
    }
   ],
   "source": [
    "arr = np.array([10, 20, 30])  # based on the list [10, 20, 30] I'm creating NumPy array.\n",
    "arr, type(arr)"
   ]
  },
  {
   "cell_type": "code",
   "execution_count": 30,
   "id": "b953851c",
   "metadata": {},
   "outputs": [
    {
     "data": {
      "text/plain": [
       "10"
      ]
     },
     "execution_count": 30,
     "metadata": {},
     "output_type": "execute_result"
    }
   ],
   "source": [
    "arr[0]"
   ]
  },
  {
   "cell_type": "code",
   "execution_count": null,
   "id": "88ac0c4b",
   "metadata": {},
   "outputs": [],
   "source": []
  },
  {
   "cell_type": "code",
   "execution_count": null,
   "id": "b8d32ead",
   "metadata": {},
   "outputs": [],
   "source": []
  },
  {
   "cell_type": "code",
   "execution_count": null,
   "id": "3b382c4d",
   "metadata": {},
   "outputs": [],
   "source": []
  },
  {
   "cell_type": "code",
   "execution_count": null,
   "id": "c59e499c",
   "metadata": {},
   "outputs": [],
   "source": []
  },
  {
   "cell_type": "code",
   "execution_count": null,
   "id": "5bc00da0",
   "metadata": {},
   "outputs": [],
   "source": []
  }
 ],
 "metadata": {
  "kernelspec": {
   "display_name": "Python 3.9.7 64-bit ('base': conda)",
   "language": "python",
   "name": "python397jvsc74a57bd040d3a090f54c6569ab1632332b64b2c03c39dcf918b08424e98f38b5ae0af88f"
  },
  "language_info": {
   "codemirror_mode": {
    "name": "ipython",
    "version": 3
   },
   "file_extension": ".py",
   "mimetype": "text/x-python",
   "name": "python",
   "nbconvert_exporter": "python",
   "pygments_lexer": "ipython3",
   "version": "3.9.7"
  }
 },
 "nbformat": 4,
 "nbformat_minor": 5
}
