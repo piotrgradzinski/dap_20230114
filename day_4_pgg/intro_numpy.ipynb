{
 "cells": [
  {
   "cell_type": "markdown",
   "id": "9195b2fc",
   "metadata": {},
   "source": [
    "# Intro to numpy library\n",
    "\n",
    "In a `markdown` cell we can use Markdown formatting. [Here is a cheatsheet.](https://github.com/adam-p/markdown-here/wiki/Markdown-Cheatsheet)\n",
    "\n",
    "My list:\n",
    "- first **element**\n",
    "- second *element*"
   ]
  },
  {
   "cell_type": "markdown",
   "id": "e114bbb9",
   "metadata": {},
   "source": [
    "## How Jupter Notebook works?"
   ]
  },
  {
   "cell_type": "code",
   "execution_count": 22,
   "id": "d3a4eef3",
   "metadata": {},
   "outputs": [],
   "source": [
    "first_name = 'Piotr'\n",
    "last_name = 'GG'\n",
    "import time\n",
    "time.sleep(3)"
   ]
  },
  {
   "cell_type": "code",
   "execution_count": 23,
   "id": "9dcc7577",
   "metadata": {},
   "outputs": [
    {
     "name": "stdout",
     "output_type": "stream",
     "text": [
      "Piotr GG\n"
     ]
    }
   ],
   "source": [
    "print(first_name, last_name)"
   ]
  },
  {
   "cell_type": "markdown",
   "id": "b77c578f",
   "metadata": {},
   "source": [
    "To see the results of expressions or variables, etc. we don't have to use `print`. Last line of the code cell will be displayed in the output part of the cell."
   ]
  },
  {
   "cell_type": "code",
   "execution_count": 24,
   "id": "51ae01ac",
   "metadata": {},
   "outputs": [
    {
     "data": {
      "text/plain": [
       "50"
      ]
     },
     "execution_count": 24,
     "metadata": {},
     "output_type": "execute_result"
    }
   ],
   "source": [
    "10 * 5"
   ]
  },
  {
   "cell_type": "code",
   "execution_count": 25,
   "id": "6d59b28b",
   "metadata": {},
   "outputs": [
    {
     "data": {
      "text/plain": [
       "46"
      ]
     },
     "execution_count": 25,
     "metadata": {},
     "output_type": "execute_result"
    }
   ],
   "source": [
    "shoe_number = 46\n",
    "shoe_number"
   ]
  },
  {
   "cell_type": "code",
   "execution_count": 26,
   "id": "979afc2f",
   "metadata": {},
   "outputs": [
    {
     "data": {
      "text/plain": [
       "{'first_name': 'Piotr', 'last_name': 'GG'}"
      ]
     },
     "execution_count": 26,
     "metadata": {},
     "output_type": "execute_result"
    }
   ],
   "source": [
    "my_dict = {\n",
    "    'first_name': 'Piotr',\n",
    "    'last_name': 'GG',\n",
    "}\n",
    "my_dict"
   ]
  },
  {
   "cell_type": "markdown",
   "id": "12fc3f29",
   "metadata": {},
   "source": [
    "## NumPy\n",
    "\n",
    "[Documentation](https://numpy.org/doc/1.24/index.html)\n",
    "\n",
    "NumPy, by default in Python installation is not available. But if we are using Anaconda, then NumPy, Pandas and other libraries are installed and we don't have to worry about them.\n",
    "\n",
    "When using Anaconda and Jupter Notebooks we are using different virtual environment (venv) than when using PyCharm."
   ]
  },
  {
   "cell_type": "code",
   "execution_count": 27,
   "id": "ae460c5a",
   "metadata": {},
   "outputs": [],
   "source": [
    "import numpy as np"
   ]
  },
  {
   "cell_type": "code",
   "execution_count": 28,
   "id": "cec5807f",
   "metadata": {},
   "outputs": [
    {
     "data": {
      "text/plain": [
       "'1.20.3'"
      ]
     },
     "execution_count": 28,
     "metadata": {},
     "output_type": "execute_result"
    }
   ],
   "source": [
    "np.__version__"
   ]
  },
  {
   "cell_type": "markdown",
   "id": "9bf2e678",
   "metadata": {},
   "source": [
    "`ndarray` - n-dimensional array"
   ]
  },
  {
   "cell_type": "code",
   "execution_count": 29,
   "id": "037fdd1e",
   "metadata": {},
   "outputs": [
    {
     "data": {
      "text/plain": [
       "(array([10, 20, 30]), numpy.ndarray)"
      ]
     },
     "execution_count": 29,
     "metadata": {},
     "output_type": "execute_result"
    }
   ],
   "source": [
    "arr = np.array([10, 20, 30])  # based on the list [10, 20, 30] I'm creating NumPy array.\n",
    "arr, type(arr)"
   ]
  },
  {
   "cell_type": "code",
   "execution_count": 30,
   "id": "834bd4d0",
   "metadata": {},
   "outputs": [
    {
     "data": {
      "text/plain": [
       "30"
      ]
     },
     "execution_count": 30,
     "metadata": {},
     "output_type": "execute_result"
    }
   ],
   "source": [
    "arr[2]"
   ]
  },
  {
   "cell_type": "code",
   "execution_count": 31,
   "id": "188e3a90",
   "metadata": {},
   "outputs": [
    {
     "data": {
      "text/plain": [
       "dtype('int64')"
      ]
     },
     "execution_count": 31,
     "metadata": {},
     "output_type": "execute_result"
    }
   ],
   "source": [
    "arr.dtype"
   ]
  },
  {
   "cell_type": "markdown",
   "id": "11ef282f",
   "metadata": {},
   "source": [
    "We can store only one data type in NumPy array. For example, we can't store at the same time number and string."
   ]
  },
  {
   "cell_type": "markdown",
   "id": "f3afe31e",
   "metadata": {},
   "source": [
    "[Data types available in NumPy](https://numpy.org/doc/stable/user/basics.types.html)\n",
    "\n",
    "Extract from available data types:\n",
    "\n",
    "Number in the type name refers to the number of bits (1 byte = 8 bits).\n",
    "\n",
    "- **`int8`** - like `byte` in Java or `signed char` in C, range od -128 do +127\n",
    "- **`int16`** - like `short`, range from -32_768 to +32_767\n",
    "- **`int32`** - like `int`, range from -2_147_483_648 to +2_147_483_647\n",
    "- **`int64`** - like `long`, range to 9223372036854775807 (19 cyfr)\n",
    "- **`float16`** - floating point numbers with low precision, about 4-5 digits\n",
    "- **`float32`** - like `float` in C or Java; medium precision, about 7-8 digits\n",
    "- **`float64`** - like `double` in C or Java, or standard `float` in Python; big precision, about 14-15 digits"
   ]
  },
  {
   "cell_type": "code",
   "execution_count": 32,
   "id": "77e9b654",
   "metadata": {},
   "outputs": [
    {
     "data": {
      "text/plain": [
       "(5, 1000000000)"
      ]
     },
     "execution_count": 32,
     "metadata": {},
     "output_type": "execute_result"
    }
   ],
   "source": [
    "a = np.int32(5)\n",
    "b = np.int32(1_000_000_000)\n",
    "a, b"
   ]
  },
  {
   "cell_type": "code",
   "execution_count": 33,
   "id": "6a645e16",
   "metadata": {},
   "outputs": [
    {
     "name": "stderr",
     "output_type": "stream",
     "text": [
      "/var/folders/__/0gvd5dsj22b9cbv4hzvln3pw0000gn/T/ipykernel_58776/1354736782.py:1: RuntimeWarning: overflow encountered in int_scalars\n",
      "  a * b  # 705_032_704, this problem is called integer overflow\n"
     ]
    },
    {
     "data": {
      "text/plain": [
       "705032704"
      ]
     },
     "execution_count": 33,
     "metadata": {},
     "output_type": "execute_result"
    }
   ],
   "source": [
    "a * b  # 705_032_704, this problem is called integer overflow"
   ]
  },
  {
   "cell_type": "code",
   "execution_count": 34,
   "id": "6e77c61f",
   "metadata": {},
   "outputs": [
    {
     "name": "stderr",
     "output_type": "stream",
     "text": [
      "/var/folders/__/0gvd5dsj22b9cbv4hzvln3pw0000gn/T/ipykernel_58776/3225359074.py:2: RuntimeWarning: overflow encountered in int_scalars\n",
      "  c, c + np.int32(1) # this problem is called integer overflow\n"
     ]
    },
    {
     "data": {
      "text/plain": [
       "(2147483647, -2147483648)"
      ]
     },
     "execution_count": 34,
     "metadata": {},
     "output_type": "execute_result"
    }
   ],
   "source": [
    "c = np.int32(2_147_483_647)\n",
    "c, c + np.int32(1) # this problem is called integer overflow"
   ]
  },
  {
   "cell_type": "markdown",
   "id": "829f75f2",
   "metadata": {},
   "source": [
    "Integer overflow can be problematic...\n",
    "[Ariane 5](https://youtu.be/PK_yguLapgA?t=76)\n",
    "- https://hownot2code.wordpress.com/2016/09/02/a-space-error-370-million-for-an-integer-overflow/\n",
    "- https://www.bbc.com/future/article/20150505-the-numbers-that-lead-to-disaster\n"
   ]
  },
  {
   "cell_type": "markdown",
   "id": "fbbc8d3e",
   "metadata": {},
   "source": [
    "## Basics of NumPy arrays"
   ]
  },
  {
   "cell_type": "code",
   "execution_count": 35,
   "id": "6f30060c",
   "metadata": {},
   "outputs": [
    {
     "data": {
      "text/plain": [
       "(array([1, 2, 3, 4, 5]), array([10, 20, 30, 40, 50]))"
      ]
     },
     "execution_count": 35,
     "metadata": {},
     "output_type": "execute_result"
    }
   ],
   "source": [
    "a = np.array([1, 2, 3, 4, 5])\n",
    "b = np.array([10, 20, 30, 40, 50])\n",
    "a, b"
   ]
  },
  {
   "cell_type": "code",
   "execution_count": 36,
   "id": "edeca7dd",
   "metadata": {},
   "outputs": [
    {
     "data": {
      "text/plain": [
       "40"
      ]
     },
     "execution_count": 36,
     "metadata": {},
     "output_type": "execute_result"
    }
   ],
   "source": [
    "# we can use indexing operator\n",
    "b[3]"
   ]
  },
  {
   "cell_type": "code",
   "execution_count": 37,
   "id": "b0edcdc6",
   "metadata": {},
   "outputs": [
    {
     "name": "stdout",
     "output_type": "stream",
     "text": [
      "1\n",
      "2\n",
      "3\n",
      "4\n",
      "5\n"
     ]
    }
   ],
   "source": [
    "for number in a:\n",
    "    print(number)"
   ]
  },
  {
   "cell_type": "code",
   "execution_count": 38,
   "id": "bbad2169",
   "metadata": {},
   "outputs": [],
   "source": [
    "# [1, 2, 3] * [4, 5, 6] - is that possible in standard Python? To multiply two lists?\n",
    "# [1, 2, 3] * [4, 5, 6] KO: TypeError: can't multiply sequence by non-int of type 'list'"
   ]
  },
  {
   "cell_type": "code",
   "execution_count": 39,
   "id": "09bf3417",
   "metadata": {},
   "outputs": [
    {
     "data": {
      "text/plain": [
       "(array([1, 2, 3, 4, 5]), array([10, 20, 30, 40, 50]))"
      ]
     },
     "execution_count": 39,
     "metadata": {},
     "output_type": "execute_result"
    }
   ],
   "source": [
    "a, b"
   ]
  },
  {
   "cell_type": "code",
   "execution_count": 40,
   "id": "863b9e64",
   "metadata": {},
   "outputs": [
    {
     "data": {
      "text/plain": [
       "(array([11, 22, 33, 44, 55]),\n",
       " array([ -9, -18, -27, -36, -45]),\n",
       " array([ 10,  40,  90, 160, 250]),\n",
       " array([0.1, 0.1, 0.1, 0.1, 0.1]))"
      ]
     },
     "execution_count": 40,
     "metadata": {},
     "output_type": "execute_result"
    }
   ],
   "source": [
    "a + b, a - b, a * b, a / b"
   ]
  },
  {
   "cell_type": "markdown",
   "id": "f1cae62d",
   "metadata": {},
   "source": [
    "## Getting information about NumPy arrays"
   ]
  },
  {
   "cell_type": "code",
   "execution_count": 41,
   "id": "c32fce55",
   "metadata": {},
   "outputs": [
    {
     "data": {
      "text/plain": [
       "array([[10, 11, 12, 13, 14],\n",
       "       [20, 21, 22, 23, 24],\n",
       "       [30, 31, 32, 33, 34]])"
      ]
     },
     "execution_count": 41,
     "metadata": {},
     "output_type": "execute_result"
    }
   ],
   "source": [
    "# https://en.wikipedia.org/wiki/Matrix_(mathematics)\n",
    "m = np.array([\n",
    "    [10, 11, 12, 13, 14],\n",
    "    [20, 21, 22, 23, 24],\n",
    "    [30, 31, 32, 33, 34],\n",
    "])\n",
    "m"
   ]
  },
  {
   "cell_type": "code",
   "execution_count": 42,
   "id": "e568df3a",
   "metadata": {},
   "outputs": [
    {
     "data": {
      "text/plain": [
       "15"
      ]
     },
     "execution_count": 42,
     "metadata": {},
     "output_type": "execute_result"
    }
   ],
   "source": [
    "m.size  # how many elements in array?"
   ]
  },
  {
   "cell_type": "code",
   "execution_count": 43,
   "id": "aa9231f7",
   "metadata": {},
   "outputs": [
    {
     "data": {
      "text/plain": [
       "3"
      ]
     },
     "execution_count": 43,
     "metadata": {},
     "output_type": "execute_result"
    }
   ],
   "source": [
    "len(m)  # in this case how many rows?"
   ]
  },
  {
   "cell_type": "code",
   "execution_count": 44,
   "id": "84823b53",
   "metadata": {},
   "outputs": [
    {
     "data": {
      "text/plain": [
       "2"
      ]
     },
     "execution_count": 44,
     "metadata": {},
     "output_type": "execute_result"
    }
   ],
   "source": [
    "m.ndim  # how many dimensions I have?"
   ]
  },
  {
   "cell_type": "code",
   "execution_count": 45,
   "id": "27fc20f7",
   "metadata": {},
   "outputs": [
    {
     "data": {
      "text/plain": [
       "(3, 5)"
      ]
     },
     "execution_count": 45,
     "metadata": {},
     "output_type": "execute_result"
    }
   ],
   "source": [
    "m.shape"
   ]
  },
  {
   "cell_type": "markdown",
   "id": "864a4c74",
   "metadata": {},
   "source": [
    "## Ways of creating NumPy arrays"
   ]
  },
  {
   "cell_type": "code",
   "execution_count": 46,
   "id": "519011fc",
   "metadata": {},
   "outputs": [
    {
     "data": {
      "text/plain": [
       "(array([1, 2, 3, 4, 5]), dtype('int64'))"
      ]
     },
     "execution_count": 46,
     "metadata": {},
     "output_type": "execute_result"
    }
   ],
   "source": [
    "# as earlier we can create arrays based on iterables like lists or tuples, etc.\n",
    "a = np.array([1, 2, 3, 4, 5])\n",
    "a, a.dtype"
   ]
  },
  {
   "cell_type": "code",
   "execution_count": 47,
   "id": "94ba5de2",
   "metadata": {},
   "outputs": [
    {
     "data": {
      "text/plain": [
       "(array([1., 2., 3., 4., 5.], dtype=float16), dtype('float16'))"
      ]
     },
     "execution_count": 47,
     "metadata": {},
     "output_type": "execute_result"
    }
   ],
   "source": [
    "a = np.array([1, 2, 3, 4, 5], dtype='float16')\n",
    "a, a.dtype"
   ]
  },
  {
   "cell_type": "code",
   "execution_count": 48,
   "id": "dae0ebd7",
   "metadata": {},
   "outputs": [
    {
     "data": {
      "text/plain": [
       "array([10, 10, 10, 10, 10])"
      ]
     },
     "execution_count": 48,
     "metadata": {},
     "output_type": "execute_result"
    }
   ],
   "source": [
    "np.full(5, 10)  # np.full(shape, value)"
   ]
  },
  {
   "cell_type": "code",
   "execution_count": 49,
   "id": "3751852e",
   "metadata": {},
   "outputs": [
    {
     "data": {
      "text/plain": [
       "array([[15, 15, 15, 15, 15],\n",
       "       [15, 15, 15, 15, 15],\n",
       "       [15, 15, 15, 15, 15]])"
      ]
     },
     "execution_count": 49,
     "metadata": {},
     "output_type": "execute_result"
    }
   ],
   "source": [
    "np.full((3, 5), 15)"
   ]
  },
  {
   "cell_type": "code",
   "execution_count": 50,
   "id": "26bfd2f8",
   "metadata": {},
   "outputs": [
    {
     "data": {
      "text/plain": [
       "array([[0., 0., 0., 0., 0.],\n",
       "       [0., 0., 0., 0., 0.],\n",
       "       [0., 0., 0., 0., 0.]])"
      ]
     },
     "execution_count": 50,
     "metadata": {},
     "output_type": "execute_result"
    }
   ],
   "source": [
    "np.zeros((3,5))"
   ]
  },
  {
   "cell_type": "code",
   "execution_count": 51,
   "id": "0f2f15a6",
   "metadata": {},
   "outputs": [
    {
     "data": {
      "text/plain": [
       "array([[1., 1., 1., 1., 1.],\n",
       "       [1., 1., 1., 1., 1.],\n",
       "       [1., 1., 1., 1., 1.]])"
      ]
     },
     "execution_count": 51,
     "metadata": {},
     "output_type": "execute_result"
    }
   ],
   "source": [
    "np.ones((3,5))"
   ]
  },
  {
   "cell_type": "code",
   "execution_count": 52,
   "id": "28f06b29",
   "metadata": {},
   "outputs": [
    {
     "data": {
      "text/plain": [
       "array([[1, 0, 0, 0, 0],\n",
       "       [0, 2, 0, 0, 0],\n",
       "       [0, 0, 3, 0, 0],\n",
       "       [0, 0, 0, 4, 0],\n",
       "       [0, 0, 0, 0, 5]])"
      ]
     },
     "execution_count": 52,
     "metadata": {},
     "output_type": "execute_result"
    }
   ],
   "source": [
    "np.diag([1, 2, 3, 4, 5])  # diagonal matrix"
   ]
  },
  {
   "cell_type": "code",
   "execution_count": 53,
   "id": "d8c88e4e",
   "metadata": {},
   "outputs": [
    {
     "data": {
      "text/plain": [
       "array([[1., 0., 0., 0., 0., 0.],\n",
       "       [0., 1., 0., 0., 0., 0.],\n",
       "       [0., 0., 1., 0., 0., 0.],\n",
       "       [0., 0., 0., 1., 0., 0.],\n",
       "       [0., 0., 0., 0., 1., 0.],\n",
       "       [0., 0., 0., 0., 0., 1.]])"
      ]
     },
     "execution_count": 53,
     "metadata": {},
     "output_type": "execute_result"
    }
   ],
   "source": [
    "np.eye(6)"
   ]
  },
  {
   "cell_type": "code",
   "execution_count": 54,
   "id": "54d6befe",
   "metadata": {},
   "outputs": [
    {
     "data": {
      "text/plain": [
       "array([0, 1, 2, 3, 4, 5, 6, 7, 8, 9])"
      ]
     },
     "execution_count": 54,
     "metadata": {},
     "output_type": "execute_result"
    }
   ],
   "source": [
    "np.arange(10)  # it's similar to pythons range function..."
   ]
  },
  {
   "cell_type": "code",
   "execution_count": 55,
   "id": "1911ac1f",
   "metadata": {},
   "outputs": [
    {
     "data": {
      "text/plain": [
       "array([-10,  -9,  -8,  -7,  -6,  -5,  -4,  -3,  -2,  -1,   0,   1,   2,\n",
       "         3,   4,   5,   6,   7,   8,   9,  10])"
      ]
     },
     "execution_count": 55,
     "metadata": {},
     "output_type": "execute_result"
    }
   ],
   "source": [
    "np.arange(-10, 11)"
   ]
  },
  {
   "cell_type": "code",
   "execution_count": 56,
   "id": "829debf3",
   "metadata": {},
   "outputs": [
    {
     "data": {
      "text/plain": [
       "array([-10,  -8,  -6,  -4,  -2,   0,   2,   4,   6,   8,  10])"
      ]
     },
     "execution_count": 56,
     "metadata": {},
     "output_type": "execute_result"
    }
   ],
   "source": [
    "np.arange(-10, 11, 2)"
   ]
  },
  {
   "cell_type": "code",
   "execution_count": 57,
   "id": "290af913",
   "metadata": {},
   "outputs": [
    {
     "data": {
      "text/plain": [
       "array([1. , 1.1, 1.2, 1.3, 1.4, 1.5, 1.6, 1.7, 1.8, 1.9, 2. ])"
      ]
     },
     "execution_count": 57,
     "metadata": {},
     "output_type": "execute_result"
    }
   ],
   "source": [
    "np.arange(1.0, 2.1, 0.1)"
   ]
  },
  {
   "cell_type": "markdown",
   "id": "c029ce1a",
   "metadata": {},
   "source": [
    "### reshape"
   ]
  },
  {
   "cell_type": "code",
   "execution_count": 58,
   "id": "0a7e00d9",
   "metadata": {},
   "outputs": [
    {
     "data": {
      "text/plain": [
       "array([ 0,  1,  2,  3,  4,  5,  6,  7,  8,  9, 10, 11, 12, 13, 14, 15, 16,\n",
       "       17, 18, 19, 20, 21, 22, 23])"
      ]
     },
     "execution_count": 58,
     "metadata": {},
     "output_type": "execute_result"
    }
   ],
   "source": [
    "arr = np.arange(24)\n",
    "arr"
   ]
  },
  {
   "cell_type": "code",
   "execution_count": 59,
   "id": "896b6ede",
   "metadata": {},
   "outputs": [
    {
     "data": {
      "text/plain": [
       "array([[ 0,  1,  2,  3,  4,  5],\n",
       "       [ 6,  7,  8,  9, 10, 11],\n",
       "       [12, 13, 14, 15, 16, 17],\n",
       "       [18, 19, 20, 21, 22, 23]])"
      ]
     },
     "execution_count": 59,
     "metadata": {},
     "output_type": "execute_result"
    }
   ],
   "source": [
    "arr.reshape(4, 6)"
   ]
  },
  {
   "cell_type": "code",
   "execution_count": 60,
   "id": "cbe76128",
   "metadata": {},
   "outputs": [
    {
     "data": {
      "text/plain": [
       "array([[ 0,  1,  2,  3],\n",
       "       [ 4,  5,  6,  7],\n",
       "       [ 8,  9, 10, 11],\n",
       "       [12, 13, 14, 15],\n",
       "       [16, 17, 18, 19],\n",
       "       [20, 21, 22, 23]])"
      ]
     },
     "execution_count": 60,
     "metadata": {},
     "output_type": "execute_result"
    }
   ],
   "source": [
    "arr.reshape(6, 4)"
   ]
  },
  {
   "cell_type": "code",
   "execution_count": 61,
   "id": "e49c726c",
   "metadata": {},
   "outputs": [
    {
     "data": {
      "text/plain": [
       "array([[ 0,  1,  2,  3,  4,  5],\n",
       "       [ 6,  7,  8,  9, 10, 11],\n",
       "       [12, 13, 14, 15, 16, 17],\n",
       "       [18, 19, 20, 21, 22, 23]])"
      ]
     },
     "execution_count": 61,
     "metadata": {},
     "output_type": "execute_result"
    }
   ],
   "source": [
    "arr.reshape(4, -1)"
   ]
  },
  {
   "cell_type": "markdown",
   "id": "e66fa4cd",
   "metadata": {},
   "source": [
    "## Operations"
   ]
  },
  {
   "cell_type": "code",
   "execution_count": 62,
   "id": "99a255bb",
   "metadata": {},
   "outputs": [
    {
     "data": {
      "text/plain": [
       "(array([[ 0,  1,  2,  3,  4,  5,  6,  7],\n",
       "        [ 8,  9, 10, 11, 12, 13, 14, 15],\n",
       "        [16, 17, 18, 19, 20, 21, 22, 23],\n",
       "        [24, 25, 26, 27, 28, 29, 30, 31],\n",
       "        [32, 33, 34, 35, 36, 37, 38, 39]]),\n",
       " array([[50, 51, 52, 53, 54, 55, 56, 57],\n",
       "        [58, 59, 60, 61, 62, 63, 64, 65],\n",
       "        [66, 67, 68, 69, 70, 71, 72, 73],\n",
       "        [74, 75, 76, 77, 78, 79, 80, 81],\n",
       "        [82, 83, 84, 85, 86, 87, 88, 89]]))"
      ]
     },
     "execution_count": 62,
     "metadata": {},
     "output_type": "execute_result"
    }
   ],
   "source": [
    "a = np.arange(40).reshape(5, 8)\n",
    "b = np.arange(50, 90).reshape(5, 8)\n",
    "a, b"
   ]
  },
  {
   "cell_type": "code",
   "execution_count": 63,
   "id": "11b94bbf",
   "metadata": {},
   "outputs": [
    {
     "data": {
      "text/plain": [
       "array([[ 50,  52,  54,  56,  58,  60,  62,  64],\n",
       "       [ 66,  68,  70,  72,  74,  76,  78,  80],\n",
       "       [ 82,  84,  86,  88,  90,  92,  94,  96],\n",
       "       [ 98, 100, 102, 104, 106, 108, 110, 112],\n",
       "       [114, 116, 118, 120, 122, 124, 126, 128]])"
      ]
     },
     "execution_count": 63,
     "metadata": {},
     "output_type": "execute_result"
    }
   ],
   "source": [
    "a + b"
   ]
  },
  {
   "cell_type": "code",
   "execution_count": 64,
   "id": "9791cf19",
   "metadata": {},
   "outputs": [
    {
     "data": {
      "text/plain": [
       "(array([[-50, -50, -50, -50, -50, -50, -50, -50],\n",
       "        [-50, -50, -50, -50, -50, -50, -50, -50],\n",
       "        [-50, -50, -50, -50, -50, -50, -50, -50],\n",
       "        [-50, -50, -50, -50, -50, -50, -50, -50],\n",
       "        [-50, -50, -50, -50, -50, -50, -50, -50]]),\n",
       " array([[   0,   51,  104,  159,  216,  275,  336,  399],\n",
       "        [ 464,  531,  600,  671,  744,  819,  896,  975],\n",
       "        [1056, 1139, 1224, 1311, 1400, 1491, 1584, 1679],\n",
       "        [1776, 1875, 1976, 2079, 2184, 2291, 2400, 2511],\n",
       "        [2624, 2739, 2856, 2975, 3096, 3219, 3344, 3471]]),\n",
       " array([[0.        , 0.01960784, 0.03846154, 0.05660377, 0.07407407,\n",
       "         0.09090909, 0.10714286, 0.12280702],\n",
       "        [0.13793103, 0.15254237, 0.16666667, 0.18032787, 0.19354839,\n",
       "         0.20634921, 0.21875   , 0.23076923],\n",
       "        [0.24242424, 0.25373134, 0.26470588, 0.27536232, 0.28571429,\n",
       "         0.29577465, 0.30555556, 0.31506849],\n",
       "        [0.32432432, 0.33333333, 0.34210526, 0.35064935, 0.35897436,\n",
       "         0.36708861, 0.375     , 0.38271605],\n",
       "        [0.3902439 , 0.39759036, 0.4047619 , 0.41176471, 0.41860465,\n",
       "         0.42528736, 0.43181818, 0.43820225]]))"
      ]
     },
     "execution_count": 64,
     "metadata": {},
     "output_type": "execute_result"
    }
   ],
   "source": [
    "a - b, a * b, a / b"
   ]
  },
  {
   "cell_type": "markdown",
   "id": "da5445c3",
   "metadata": {},
   "source": [
    "[Dot product](https://en.wikipedia.org/wiki/Dot_product)\n",
    "![Matrix multiplication](https://miro.medium.com/max/1400/1*YGcMQSr0ge_DGn96WnEkZw.png)"
   ]
  },
  {
   "cell_type": "code",
   "execution_count": 65,
   "id": "78272367",
   "metadata": {},
   "outputs": [
    {
     "data": {
      "text/plain": [
       "(array([[ 2100,  2128,  2156,  2184,  2212],\n",
       "        [ 6420,  6512,  6604,  6696,  6788],\n",
       "        [10740, 10896, 11052, 11208, 11364],\n",
       "        [15060, 15280, 15500, 15720, 15940],\n",
       "        [19380, 19664, 19948, 20232, 20516]]),\n",
       " array([[ 2100,  2128,  2156,  2184,  2212],\n",
       "        [ 6420,  6512,  6604,  6696,  6788],\n",
       "        [10740, 10896, 11052, 11208, 11364],\n",
       "        [15060, 15280, 15500, 15720, 15940],\n",
       "        [19380, 19664, 19948, 20232, 20516]]))"
      ]
     },
     "execution_count": 65,
     "metadata": {},
     "output_type": "execute_result"
    }
   ],
   "source": [
    "a = np.arange(40).reshape(5, 8)\n",
    "b = np.arange(50, 90).reshape(8, 5)\n",
    "a.dot(b), a @ b"
   ]
  },
  {
   "cell_type": "code",
   "execution_count": 66,
   "id": "c48a4682",
   "metadata": {},
   "outputs": [
    {
     "data": {
      "text/plain": [
       "(array([[ 0,  1,  2,  3,  4,  5,  6,  7],\n",
       "        [ 8,  9, 10, 11, 12, 13, 14, 15],\n",
       "        [16, 17, 18, 19, 20, 21, 22, 23],\n",
       "        [24, 25, 26, 27, 28, 29, 30, 31],\n",
       "        [32, 33, 34, 35, 36, 37, 38, 39]]),\n",
       " array([[100, 101, 102, 103, 104, 105, 106, 107],\n",
       "        [108, 109, 110, 111, 112, 113, 114, 115],\n",
       "        [116, 117, 118, 119, 120, 121, 122, 123],\n",
       "        [124, 125, 126, 127, 128, 129, 130, 131],\n",
       "        [132, 133, 134, 135, 136, 137, 138, 139]]))"
      ]
     },
     "execution_count": 66,
     "metadata": {},
     "output_type": "execute_result"
    }
   ],
   "source": [
    "a, a + 100"
   ]
  },
  {
   "cell_type": "markdown",
   "id": "73478fbb",
   "metadata": {},
   "source": [
    "## Broadcasting"
   ]
  },
  {
   "cell_type": "code",
   "execution_count": 67,
   "id": "b010272b",
   "metadata": {},
   "outputs": [
    {
     "data": {
      "text/plain": [
       "array([[0],\n",
       "       [1],\n",
       "       [2]])"
      ]
     },
     "execution_count": 67,
     "metadata": {},
     "output_type": "execute_result"
    }
   ],
   "source": [
    "a = np.arange(3).reshape((3, 1))\n",
    "a"
   ]
  },
  {
   "cell_type": "code",
   "execution_count": 68,
   "id": "2876cfa9",
   "metadata": {},
   "outputs": [
    {
     "data": {
      "text/plain": [
       "array([0, 1, 2])"
      ]
     },
     "execution_count": 68,
     "metadata": {},
     "output_type": "execute_result"
    }
   ],
   "source": [
    "b = np.arange(3)\n",
    "b"
   ]
  },
  {
   "cell_type": "code",
   "execution_count": 69,
   "id": "83130838",
   "metadata": {},
   "outputs": [
    {
     "data": {
      "text/plain": [
       "array([[0, 1, 2],\n",
       "       [1, 2, 3],\n",
       "       [2, 3, 4]])"
      ]
     },
     "execution_count": 69,
     "metadata": {},
     "output_type": "execute_result"
    }
   ],
   "source": [
    "a + b"
   ]
  },
  {
   "cell_type": "markdown",
   "id": "3bc6127a",
   "metadata": {},
   "source": [
    "## Idexing operator usage with NumPy arrays"
   ]
  },
  {
   "cell_type": "code",
   "execution_count": 70,
   "id": "03ee56d2",
   "metadata": {},
   "outputs": [
    {
     "data": {
      "text/plain": [
       "array([10, 11, 12, 13, 14, 15, 16, 17, 18, 19])"
      ]
     },
     "execution_count": 70,
     "metadata": {},
     "output_type": "execute_result"
    }
   ],
   "source": [
    "a = np.arange(10, 20)\n",
    "a"
   ]
  },
  {
   "cell_type": "code",
   "execution_count": 71,
   "id": "1fd6b36f",
   "metadata": {},
   "outputs": [
    {
     "data": {
      "text/plain": [
       "(11, array([10, 11, 12]), array([10, 12, 14]))"
      ]
     },
     "execution_count": 71,
     "metadata": {},
     "output_type": "execute_result"
    }
   ],
   "source": [
    "a[1], a[0:3], a[0:6:2]"
   ]
  },
  {
   "cell_type": "code",
   "execution_count": 72,
   "id": "7319ded9",
   "metadata": {},
   "outputs": [
    {
     "data": {
      "text/plain": [
       "array([[ 0,  1,  2,  3,  4,  5,  6,  7,  8,  9],\n",
       "       [10, 11, 12, 13, 14, 15, 16, 17, 18, 19],\n",
       "       [20, 21, 22, 23, 24, 25, 26, 27, 28, 29],\n",
       "       [30, 31, 32, 33, 34, 35, 36, 37, 38, 39],\n",
       "       [40, 41, 42, 43, 44, 45, 46, 47, 48, 49]])"
      ]
     },
     "execution_count": 72,
     "metadata": {},
     "output_type": "execute_result"
    }
   ],
   "source": [
    "a = np.arange(50).reshape(5, 10)\n",
    "a"
   ]
  },
  {
   "cell_type": "code",
   "execution_count": 73,
   "id": "cda5aeb6",
   "metadata": {},
   "outputs": [
    {
     "data": {
      "text/plain": [
       "13"
      ]
     },
     "execution_count": 73,
     "metadata": {},
     "output_type": "execute_result"
    }
   ],
   "source": [
    "# indexing operator support also multidimensional NumPy arrays\n",
    "a[1, 3]"
   ]
  },
  {
   "cell_type": "code",
   "execution_count": 74,
   "id": "5e95974e",
   "metadata": {},
   "outputs": [
    {
     "data": {
      "text/plain": [
       "array([[24, 25, 26],\n",
       "       [34, 35, 36]])"
      ]
     },
     "execution_count": 74,
     "metadata": {},
     "output_type": "execute_result"
    }
   ],
   "source": [
    "# for each dimension we can use all features like start, stop and step...\n",
    "a[2:4, 4:7]"
   ]
  },
  {
   "cell_type": "code",
   "execution_count": 75,
   "id": "8a6abb03",
   "metadata": {},
   "outputs": [
    {
     "data": {
      "text/plain": [
       "array([[24, 25, 26],\n",
       "       [34, 35, 36]])"
      ]
     },
     "execution_count": 75,
     "metadata": {},
     "output_type": "execute_result"
    }
   ],
   "source": [
    "a[-3:-1, -6:-3]"
   ]
  },
  {
   "cell_type": "code",
   "execution_count": 76,
   "id": "da8a9917",
   "metadata": {},
   "outputs": [
    {
     "data": {
      "text/plain": [
       "array([[ 0,  1,  2,  3,  4,  5,  6,  7,  8,  9],\n",
       "       [10, 11, 12, 13, 14, 15, 16, 17, 18, 19],\n",
       "       [20, 21, 22, 23,  1,  1,  1, 27, 28, 29],\n",
       "       [30, 31, 32, 33,  1,  1,  1, 37, 38, 39],\n",
       "       [40, 41, 42, 43, 44, 45, 46, 47, 48, 49]])"
      ]
     },
     "execution_count": 76,
     "metadata": {},
     "output_type": "execute_result"
    }
   ],
   "source": [
    "a[-3:-1, -6:-3] = 1\n",
    "a"
   ]
  },
  {
   "cell_type": "code",
   "execution_count": null,
   "id": "33249f64",
   "metadata": {},
   "outputs": [],
   "source": []
  },
  {
   "cell_type": "code",
   "execution_count": null,
   "id": "3f5c12aa",
   "metadata": {},
   "outputs": [],
   "source": []
  }
 ],
 "metadata": {
  "kernelspec": {
   "display_name": "Python 3.9.7 64-bit ('base': conda)",
   "language": "python",
   "name": "python397jvsc74a57bd040d3a090f54c6569ab1632332b64b2c03c39dcf918b08424e98f38b5ae0af88f"
  },
  "language_info": {
   "codemirror_mode": {
    "name": "ipython",
    "version": 3
   },
   "file_extension": ".py",
   "mimetype": "text/x-python",
   "name": "python",
   "nbconvert_exporter": "python",
   "pygments_lexer": "ipython3",
   "version": "3.9.7"
  }
 },
 "nbformat": 4,
 "nbformat_minor": 5
}
