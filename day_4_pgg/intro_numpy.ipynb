{
 "cells": [
  {
   "cell_type": "markdown",
   "id": "49460aff",
   "metadata": {},
   "source": [
    "# Intro to numpy library\n",
    "\n",
    "In a `markdown` cell we can use Markdown formatting. [Here is a cheatsheet.](https://github.com/adam-p/markdown-here/wiki/Markdown-Cheatsheet)\n",
    "\n",
    "My list:\n",
    "- first **element**\n",
    "- second *element*"
   ]
  },
  {
   "cell_type": "markdown",
   "id": "18d6808a",
   "metadata": {},
   "source": [
    "## How Jupter Notebook works?"
   ]
  },
  {
   "cell_type": "code",
   "execution_count": 11,
   "id": "d2b44dec",
   "metadata": {},
   "outputs": [],
   "source": [
    "first_name = 'Piotr'\n",
    "last_name = 'GG'"
   ]
  },
  {
   "cell_type": "code",
   "execution_count": 12,
   "id": "092d43bb",
   "metadata": {},
   "outputs": [
    {
     "name": "stdout",
     "output_type": "stream",
     "text": [
      "Piotr GG\n"
     ]
    }
   ],
   "source": [
    "print(first_name, last_name)"
   ]
  },
  {
   "cell_type": "markdown",
   "id": "8e1cf8b1",
   "metadata": {},
   "source": [
    "To see the results of expressions or variables, etc. we don't have to use `print`. Last line of the code cell will be displayed in the output part of the cell."
   ]
  },
  {
   "cell_type": "code",
   "execution_count": 14,
   "id": "5515c791",
   "metadata": {},
   "outputs": [
    {
     "data": {
      "text/plain": [
       "50"
      ]
     },
     "execution_count": 14,
     "metadata": {},
     "output_type": "execute_result"
    }
   ],
   "source": [
    "10 * 5"
   ]
  },
  {
   "cell_type": "code",
   "execution_count": 17,
   "id": "55f4de3b",
   "metadata": {},
   "outputs": [
    {
     "data": {
      "text/plain": [
       "46"
      ]
     },
     "execution_count": 17,
     "metadata": {},
     "output_type": "execute_result"
    }
   ],
   "source": [
    "shoe_number = 46\n",
    "shoe_number"
   ]
  },
  {
   "cell_type": "code",
   "execution_count": 18,
   "id": "8bcf3bb1",
   "metadata": {},
   "outputs": [
    {
     "data": {
      "text/plain": [
       "{'first_name': 'Piotr', 'last_name': 'GG'}"
      ]
     },
     "execution_count": 18,
     "metadata": {},
     "output_type": "execute_result"
    }
   ],
   "source": [
    "my_dict = {\n",
    "    'first_name': 'Piotr',\n",
    "    'last_name': 'GG',\n",
    "}\n",
    "my_dict"
   ]
  },
  {
   "cell_type": "code",
   "execution_count": null,
   "id": "eda087be",
   "metadata": {},
   "outputs": [],
   "source": []
  }
 ],
 "metadata": {
  "kernelspec": {
   "display_name": "Python 3.9.7 64-bit ('base': conda)",
   "language": "python",
   "name": "python397jvsc74a57bd040d3a090f54c6569ab1632332b64b2c03c39dcf918b08424e98f38b5ae0af88f"
  },
  "language_info": {
   "codemirror_mode": {
    "name": "ipython",
    "version": 3
   },
   "file_extension": ".py",
   "mimetype": "text/x-python",
   "name": "python",
   "nbconvert_exporter": "python",
   "pygments_lexer": "ipython3",
   "version": "3.9.7"
  }
 },
 "nbformat": 4,
 "nbformat_minor": 5
}
