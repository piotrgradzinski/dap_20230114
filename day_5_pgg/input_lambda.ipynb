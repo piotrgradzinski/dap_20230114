{
 "cells": [
  {
   "cell_type": "markdown",
   "id": "bfc478ce",
   "metadata": {},
   "source": [
    "# Lambda functions\n",
    "\n",
    "- function expression used as data\n",
    "- https://realpython.com/python-lambda/\n",
    "\n",
    "```\n",
    "my_fun = lambda ARGUMENT_1, ARGUMENT_2: EXPRESSION\n",
    "```\n",
    "\n",
    "```\n",
    "def my_fum(ARGUMENT_1, ARGUMENT_2):\n",
    "    return EXPRESSION\n",
    "```"
   ]
  },
  {
   "cell_type": "code",
   "execution_count": 1,
   "id": "06ec38f4",
   "metadata": {},
   "outputs": [
    {
     "data": {
      "text/plain": [
       "9"
      ]
     },
     "execution_count": 1,
     "metadata": {},
     "output_type": "execute_result"
    }
   ],
   "source": [
    "def square(number):\n",
    "    return number ** 2\n",
    "\n",
    "square(3)"
   ]
  },
  {
   "cell_type": "code",
   "execution_count": 3,
   "id": "fccaaa7c",
   "metadata": {},
   "outputs": [
    {
     "data": {
      "text/plain": [
       "4"
      ]
     },
     "execution_count": 3,
     "metadata": {},
     "output_type": "execute_result"
    }
   ],
   "source": [
    "# the same same functionality as above\n",
    "\n",
    "square = lambda number: number ** 2\n",
    "\n",
    "square(2)\n"
   ]
  },
  {
   "cell_type": "code",
   "execution_count": 5,
   "id": "4ab95c56",
   "metadata": {},
   "outputs": [
    {
     "data": {
      "text/plain": [
       "5"
      ]
     },
     "execution_count": 5,
     "metadata": {},
     "output_type": "execute_result"
    }
   ],
   "source": [
    "two_number_addition = lambda a, b: a + b\n",
    "two_number_addition(2, 3)"
   ]
  },
  {
   "cell_type": "markdown",
   "id": "9acb70b0",
   "metadata": {},
   "source": [
    "## Where we can use lambda functions?"
   ]
  },
  {
   "cell_type": "code",
   "execution_count": 7,
   "id": "8e399e06",
   "metadata": {},
   "outputs": [
    {
     "data": {
      "text/plain": [
       "[1.0, 2.0, 3.0, 4.0, 5.0]"
      ]
     },
     "execution_count": 7,
     "metadata": {},
     "output_type": "execute_result"
    }
   ],
   "source": [
    "my_list = [10, 20, 30, 40, 50]\n",
    "\n",
    "# I want to have new list based on my_list with numbers divided by 10\n",
    "# with no fancy stuff\n",
    "new_list = []\n",
    "for number in my_list:\n",
    "    new_list.append(number / 10)\n",
    "new_list"
   ]
  },
  {
   "cell_type": "code",
   "execution_count": 8,
   "id": "612a5d5c",
   "metadata": {},
   "outputs": [
    {
     "data": {
      "text/plain": [
       "[1.0, 2.0, 3.0, 4.0, 5.0]"
      ]
     },
     "execution_count": 8,
     "metadata": {},
     "output_type": "execute_result"
    }
   ],
   "source": [
    "# with list comprehensions\n",
    "new_list = [number / 10 for number in my_list]\n",
    "new_list"
   ]
  },
  {
   "cell_type": "markdown",
   "id": "bf9f890c",
   "metadata": {},
   "source": [
    "### map + lambda funtions\n",
    "- https://docs.python.org/3/library/functions.html#map\n",
    "- by default map function returns an iterator object, so something we can iterate over\n",
    "- with this iterator object we can do several things\n",
    "    - use it as a source in `for` loop\n",
    "    - convert it to collection"
   ]
  },
  {
   "cell_type": "code",
   "execution_count": 9,
   "id": "21ad8ab7",
   "metadata": {},
   "outputs": [
    {
     "data": {
      "text/plain": [
       "<map at 0x7fb0d870f880>"
      ]
     },
     "execution_count": 9,
     "metadata": {},
     "output_type": "execute_result"
    }
   ],
   "source": [
    "map(lambda number: number / 10, my_list)"
   ]
  },
  {
   "cell_type": "code",
   "execution_count": 11,
   "id": "cea5850f",
   "metadata": {},
   "outputs": [
    {
     "name": "stdout",
     "output_type": "stream",
     "text": [
      "1.0\n",
      "2.0\n",
      "3.0\n",
      "4.0\n",
      "5.0\n"
     ]
    }
   ],
   "source": [
    "for x in map(lambda number: number / 10, my_list):\n",
    "    print(x)"
   ]
  },
  {
   "cell_type": "code",
   "execution_count": 10,
   "id": "bfa802dc",
   "metadata": {},
   "outputs": [
    {
     "data": {
      "text/plain": [
       "[1.0, 2.0, 3.0, 4.0, 5.0]"
      ]
     },
     "execution_count": 10,
     "metadata": {},
     "output_type": "execute_result"
    }
   ],
   "source": [
    "list(map(lambda number: number / 10, my_list))"
   ]
  },
  {
   "cell_type": "code",
   "execution_count": 17,
   "id": "271a7c2a",
   "metadata": {},
   "outputs": [],
   "source": [
    "my_list = [-5, 10, -10, 2, 15, -8, 6]"
   ]
  },
  {
   "cell_type": "code",
   "execution_count": 18,
   "id": "e626edee",
   "metadata": {},
   "outputs": [
    {
     "data": {
      "text/plain": [
       "<filter at 0x7fb100f614c0>"
      ]
     },
     "execution_count": 18,
     "metadata": {},
     "output_type": "execute_result"
    }
   ],
   "source": [
    "filter(lambda x: x > 0, my_list)"
   ]
  },
  {
   "cell_type": "code",
   "execution_count": 19,
   "id": "0cf57dff",
   "metadata": {},
   "outputs": [
    {
     "data": {
      "text/plain": [
       "[10, 2, 15, 6]"
      ]
     },
     "execution_count": 19,
     "metadata": {},
     "output_type": "execute_result"
    }
   ],
   "source": [
    "list(filter(lambda x: x > 0, my_list))"
   ]
  },
  {
   "cell_type": "code",
   "execution_count": 21,
   "id": "871f2e01",
   "metadata": {},
   "outputs": [
    {
     "data": {
      "text/plain": [
       "[(1, 3), (2, 2), (3, 4), (4, 1)]"
      ]
     },
     "execution_count": 21,
     "metadata": {},
     "output_type": "execute_result"
    }
   ],
   "source": [
    "my_list = [(2, 2), (3, 4), (4, 1), (1, 3)]\n",
    "my_list.sort()\n",
    "my_list"
   ]
  },
  {
   "cell_type": "code",
   "execution_count": 22,
   "id": "203bfc98",
   "metadata": {},
   "outputs": [
    {
     "data": {
      "text/plain": [
       "[(4, 1), (2, 2), (1, 3), (3, 4)]"
      ]
     },
     "execution_count": 22,
     "metadata": {},
     "output_type": "execute_result"
    }
   ],
   "source": [
    "my_list.sort(key=lambda t: t[1])\n",
    "my_list"
   ]
  },
  {
   "cell_type": "markdown",
   "id": "56e8b50b",
   "metadata": {},
   "source": [
    "## Exercise\n",
    "\n",
    "I have two lists:\n",
    "- weights\n",
    "- heights\n",
    "\n",
    "I want to have a new list that will contain [BMI](https://en.wikipedia.org/wiki/Body_mass_index) values for each weight/height pair.\n",
    "\n",
    "#### BMI formula\n",
    "![BMI formula](https://wikimedia.org/api/rest_v1/media/math/render/svg/ce191830a28c6f957ca8b1644bc2ac6b34b8545b)\n",
    "\n",
    "Steps:\n",
    "- adjust (map) heights\n",
    "- connect two lists together (zip)\n",
    "- calculate BMI based on above formula"
   ]
  },
  {
   "cell_type": "code",
   "execution_count": 37,
   "id": "a34c2716",
   "metadata": {},
   "outputs": [
    {
     "data": {
      "text/plain": [
       "[52.79229853527251,\n",
       " 43.357613596947616,\n",
       " 13.831929918221752,\n",
       " 32.0,\n",
       " 67.4849625898577,\n",
       " 11.78351990573184,\n",
       " 67.83876985697326,\n",
       " 11.681985496704801,\n",
       " 69.9167657550535,\n",
       " 59.85614405713999,\n",
       " 25.720164609053494,\n",
       " 71.80650037792894,\n",
       " 33.9100517313928,\n",
       " 20.564348188254897,\n",
       " 18.022427910288357,\n",
       " 21.519653854078435,\n",
       " 22.249911000355997,\n",
       " 19.765953145706522,\n",
       " 52.19069339064076,\n",
       " 27.77031263997133,\n",
       " 23.661438615467823,\n",
       " 26.91272587466359,\n",
       " 48.451770995767426,\n",
       " 35.84,\n",
       " 55.94135802469136,\n",
       " 59.729916897506925,\n",
       " 43.65990439986451,\n",
       " 25.656434911242602,\n",
       " 18.619700253350018,\n",
       " 27.840571088637716,\n",
       " 30.427197857925268,\n",
       " 22.584759273036454,\n",
       " 56.45677293085927,\n",
       " 83.33333333333334,\n",
       " 52.21759534668518,\n",
       " 39.05325443786982,\n",
       " 12.510164508663289,\n",
       " 26.723339786213277,\n",
       " 46.28299658463404,\n",
       " 69.44444444444444,\n",
       " 17.354930580277678,\n",
       " 34.31036172924223,\n",
       " 22.136739730004358,\n",
       " 27.038057341087644,\n",
       " 88.66017732035463,\n",
       " 56.88190995032846,\n",
       " 25.142857142857142,\n",
       " 42.49046132500867,\n",
       " 32.60588842975207,\n",
       " 51.479289940828394,\n",
       " 25.69602242561957,\n",
       " 31.62942556881951,\n",
       " 42.42849729861726,\n",
       " 16.8335998653312,\n",
       " 14.574759945130314,\n",
       " 41.08838568298028,\n",
       " 14.512471655328797,\n",
       " 25.5,\n",
       " 64.06217181264441,\n",
       " 25.06574621959237,\n",
       " 48.65172610113349,\n",
       " 55.04,\n",
       " 24.653031409788166,\n",
       " 38.36112739091054,\n",
       " 13.769282830404444,\n",
       " 27.776910832995224,\n",
       " 28.61700131356728,\n",
       " 56.248607707729995,\n",
       " 26.312811226799457,\n",
       " 23.875114784205696,\n",
       " 14.42274673198874,\n",
       " 30.336384869392468,\n",
       " 43.20820955981636,\n",
       " 42.882601915794154,\n",
       " 20.990540971410354,\n",
       " 48.118512110726634,\n",
       " 24.06404738766255,\n",
       " 32.947178233606124,\n",
       " 52.73437499999999,\n",
       " 17.92821542543655,\n",
       " 51.93905817174515,\n",
       " 57.235874816215095,\n",
       " 38.2716049382716,\n",
       " 30.36922585113751,\n",
       " 23.301094832264035,\n",
       " 15.777940102264425,\n",
       " 84.61538461538461,\n",
       " 33.818938605619145,\n",
       " 23.875114784205696,\n",
       " 39.68253968253968,\n",
       " 23.423557406305775,\n",
       " 36.72839506172839,\n",
       " 17.50332563187006,\n",
       " 48.611111111111114,\n",
       " 63.33270782510791,\n",
       " 27.11102294518284,\n",
       " 73.08243972406257,\n",
       " 31.13458075150331,\n",
       " 17.855320885623918,\n",
       " 26.775510204081634]"
      ]
     },
     "execution_count": 37,
     "metadata": {},
     "output_type": "execute_result"
    }
   ],
   "source": [
    "weights = [102, 150, 57, 128, 138, 56, 120, 53, 147, 119, 120, 114, 137, 79, 81, 94, 100, 88, 119, 93, 70, 112, 87, 56, 116, 138, 116, 111, 61, 117, 75, 85, 150, 120, 79, 66, 60, 127, 145, 121, 78, 140, 61, 106, 143, 142, 77, 147, 101, 87, 121, 124, 139, 80, 68, 90, 64, 102, 122, 61, 94, 86, 54, 72, 59, 89, 61, 101, 93, 65, 63, 113, 112, 77, 79, 89, 52, 124, 135, 50, 120, 109, 124, 57, 73, 54, 143, 52, 65, 63, 63, 119, 75, 70, 135, 123, 107, 102, 70, 82]\n",
    "heights = [139, 186, 203, 200, 143, 218, 133, 213, 145, 141, 216, 126, 201, 196, 212, 209, 212, 211, 151, 183, 172, 204, 134, 125, 144, 152, 163, 208, 181, 205, 157, 194, 163, 120, 123, 130, 219, 218, 177, 132, 212, 202, 166, 198, 127, 158, 175, 186, 176, 130, 217, 198, 181, 218, 216, 148, 210, 200, 138, 156, 139, 125, 148, 137, 207, 179, 146, 134, 188, 165, 209, 193, 161, 134, 194, 136, 147, 194, 160, 167, 152, 138, 180, 137, 177, 185, 130, 124, 165, 126, 164, 180, 207, 120, 146, 213, 121, 181, 198, 175]\n",
    "\n",
    "heights_m = list(map(lambda height: height / 100, heights))\n",
    "\n",
    "# with zip\n",
    "data = list(zip(weights, heights_m))\n",
    "bmis = list(map(lambda measurement: measurement[0] / measurement[1] ** 2, data))\n",
    "\n",
    "# or without zip\n",
    "bmis = list(map(lambda weight, height: weight / height ** 2, weights, heights_m))"
   ]
  },
  {
   "cell_type": "code",
   "execution_count": 38,
   "id": "96aebabf",
   "metadata": {},
   "outputs": [
    {
     "name": "stdout",
     "output_type": "stream",
     "text": [
      "[52.79229853527251, 43.357613596947616, 13.831929918221752, 32.0, 67.4849625898577, 11.78351990573184, 67.83876985697326, 11.681985496704801, 69.9167657550535, 59.85614405713999, 25.720164609053494, 71.80650037792894, 33.9100517313928, 20.564348188254897, 18.022427910288357, 21.519653854078435, 22.249911000355997, 19.765953145706522, 52.19069339064076, 27.77031263997133, 23.661438615467823, 26.91272587466359, 48.451770995767426, 35.84, 55.94135802469136, 59.729916897506925, 43.65990439986451, 25.656434911242602, 18.619700253350018, 27.840571088637716, 30.427197857925268, 22.584759273036454, 56.45677293085927, 83.33333333333334, 52.21759534668518, 39.05325443786982, 12.510164508663289, 26.723339786213277, 46.28299658463404, 69.44444444444444, 17.354930580277678, 34.31036172924223, 22.136739730004358, 27.038057341087644, 88.66017732035463, 56.88190995032846, 25.142857142857142, 42.49046132500867, 32.60588842975207, 51.479289940828394, 25.69602242561957, 31.62942556881951, 42.42849729861726, 16.8335998653312, 14.574759945130314, 41.08838568298028, 14.512471655328797, 25.5, 64.06217181264441, 25.06574621959237, 48.65172610113349, 55.04, 24.653031409788166, 38.36112739091054, 13.769282830404444, 27.776910832995224, 28.61700131356728, 56.248607707729995, 26.312811226799457, 23.875114784205696, 14.42274673198874, 30.336384869392468, 43.20820955981636, 42.882601915794154, 20.990540971410354, 48.118512110726634, 24.06404738766255, 32.947178233606124, 52.73437499999999, 17.92821542543655, 51.93905817174515, 57.235874816215095, 38.2716049382716, 30.36922585113751, 23.301094832264035, 15.777940102264425, 84.61538461538461, 33.818938605619145, 23.875114784205696, 39.68253968253968, 23.423557406305775, 36.72839506172839, 17.50332563187006, 48.611111111111114, 63.33270782510791, 27.11102294518284, 73.08243972406257, 31.13458075150331, 17.855320885623918, 26.775510204081634]\n"
     ]
    }
   ],
   "source": [
    "weights = [102, 150, 57, 128, 138, 56, 120, 53, 147, 119, 120, 114, 137, 79, 81, 94, 100, 88, 119, 93, 70, 112, 87, 56, 116, 138, 116, 111, 61, 117, 75, 85, 150, 120, 79, 66, 60, 127, 145, 121, 78, 140, 61, 106, 143, 142, 77, 147, 101, 87, 121, 124, 139, 80, 68, 90, 64, 102, 122, 61, 94, 86, 54, 72, 59, 89, 61, 101, 93, 65, 63, 113, 112, 77, 79, 89, 52, 124, 135, 50, 120, 109, 124, 57, 73, 54, 143, 52, 65, 63, 63, 119, 75, 70, 135, 123, 107, 102, 70, 82]\n",
    "heights = [139, 186, 203, 200, 143, 218, 133, 213, 145, 141, 216, 126, 201, 196, 212, 209, 212, 211, 151, 183, 172, 204, 134, 125, 144, 152, 163, 208, 181, 205, 157, 194, 163, 120, 123, 130, 219, 218, 177, 132, 212, 202, 166, 198, 127, 158, 175, 186, 176, 130, 217, 198, 181, 218, 216, 148, 210, 200, 138, 156, 139, 125, 148, 137, 207, 179, 146, 134, 188, 165, 209, 193, 161, 134, 194, 136, 147, 194, 160, 167, 152, 138, 180, 137, 177, 185, 130, 124, 165, 126, 164, 180, 207, 120, 146, 213, 121, 181, 198, 175]\n",
    "\n",
    "heights_m = list(map(lambda height: height / 100, heights))\n",
    "\n",
    "# w = 102, h = 139\n",
    "# bmis = list(map(lambda w, h: w / h ** 2, weights, heights_m))\n",
    "\n",
    "# the equivalent to list(map(...))\n",
    "bmi_function = lambda w, h: w / h ** 2\n",
    "result = []\n",
    "for index in range(0, len(weights)):\n",
    "    result.append(bmi_function(weights[index], heights_m[index]))\n",
    "\n",
    "print(result)"
   ]
  }
 ],
 "metadata": {
  "kernelspec": {
   "display_name": "Python 3.9.7 64-bit ('base': conda)",
   "language": "python",
   "name": "python397jvsc74a57bd040d3a090f54c6569ab1632332b64b2c03c39dcf918b08424e98f38b5ae0af88f"
  },
  "language_info": {
   "codemirror_mode": {
    "name": "ipython",
    "version": 3
   },
   "file_extension": ".py",
   "mimetype": "text/x-python",
   "name": "python",
   "nbconvert_exporter": "python",
   "pygments_lexer": "ipython3",
   "version": "3.9.7"
  }
 },
 "nbformat": 4,
 "nbformat_minor": 5
}
