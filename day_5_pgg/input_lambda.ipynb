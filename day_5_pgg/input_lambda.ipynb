{
 "cells": [
  {
   "cell_type": "markdown",
   "id": "4bbc7fe2",
   "metadata": {},
   "source": [
    "# Lambda functions\n",
    "\n",
    "- function expression used as data\n",
    "- https://realpython.com/python-lambda/\n",
    "\n",
    "```\n",
    "my_fun = lambda ARGUMENT_1, ARGUMENT_2: EXPRESSION\n",
    "```\n",
    "\n",
    "```\n",
    "def my_fum(ARGUMENT_1, ARGUMENT_2):\n",
    "    return EXPRESSION\n",
    "```"
   ]
  },
  {
   "cell_type": "code",
   "execution_count": 1,
   "id": "4d84a25a",
   "metadata": {},
   "outputs": [
    {
     "data": {
      "text/plain": [
       "9"
      ]
     },
     "execution_count": 1,
     "metadata": {},
     "output_type": "execute_result"
    }
   ],
   "source": [
    "def square(number):\n",
    "    return number ** 2\n",
    "\n",
    "square(3)"
   ]
  },
  {
   "cell_type": "code",
   "execution_count": 3,
   "id": "103617c0",
   "metadata": {},
   "outputs": [
    {
     "data": {
      "text/plain": [
       "4"
      ]
     },
     "execution_count": 3,
     "metadata": {},
     "output_type": "execute_result"
    }
   ],
   "source": [
    "# the same same functionality as above\n",
    "\n",
    "square = lambda number: number ** 2\n",
    "\n",
    "square(2)\n"
   ]
  },
  {
   "cell_type": "code",
   "execution_count": 5,
   "id": "678c852c",
   "metadata": {},
   "outputs": [
    {
     "data": {
      "text/plain": [
       "5"
      ]
     },
     "execution_count": 5,
     "metadata": {},
     "output_type": "execute_result"
    }
   ],
   "source": [
    "two_number_addition = lambda a, b: a + b\n",
    "two_number_addition(2, 3)"
   ]
  },
  {
   "cell_type": "markdown",
   "id": "b51abf62",
   "metadata": {},
   "source": [
    "## Where we can use lambda functions?"
   ]
  },
  {
   "cell_type": "code",
   "execution_count": 7,
   "id": "40428564",
   "metadata": {},
   "outputs": [
    {
     "data": {
      "text/plain": [
       "[1.0, 2.0, 3.0, 4.0, 5.0]"
      ]
     },
     "execution_count": 7,
     "metadata": {},
     "output_type": "execute_result"
    }
   ],
   "source": [
    "my_list = [10, 20, 30, 40, 50]\n",
    "\n",
    "# I want to have new list based on my_list with numbers divided by 10\n",
    "# with no fancy stuff\n",
    "new_list = []\n",
    "for number in my_list:\n",
    "    new_list.append(number / 10)\n",
    "new_list"
   ]
  },
  {
   "cell_type": "code",
   "execution_count": 8,
   "id": "b6314c0b",
   "metadata": {},
   "outputs": [
    {
     "data": {
      "text/plain": [
       "[1.0, 2.0, 3.0, 4.0, 5.0]"
      ]
     },
     "execution_count": 8,
     "metadata": {},
     "output_type": "execute_result"
    }
   ],
   "source": [
    "# with list comprehensions\n",
    "new_list = [number / 10 for number in my_list]\n",
    "new_list"
   ]
  },
  {
   "cell_type": "markdown",
   "id": "e5a969cc",
   "metadata": {},
   "source": [
    "### map + lambda funtions\n",
    "- https://docs.python.org/3/library/functions.html#map\n",
    "- by default map function returns an iterator object, so something we can iterate over\n",
    "- with this iterator object we can do several things\n",
    "    - use it as a source in `for` loop\n",
    "    - convert it to collection"
   ]
  },
  {
   "cell_type": "code",
   "execution_count": 9,
   "id": "b78299ae",
   "metadata": {},
   "outputs": [
    {
     "data": {
      "text/plain": [
       "<map at 0x7fb0d870f880>"
      ]
     },
     "execution_count": 9,
     "metadata": {},
     "output_type": "execute_result"
    }
   ],
   "source": [
    "map(lambda number: number / 10, my_list)"
   ]
  },
  {
   "cell_type": "code",
   "execution_count": 11,
   "id": "4b62f0ea",
   "metadata": {},
   "outputs": [
    {
     "name": "stdout",
     "output_type": "stream",
     "text": [
      "1.0\n",
      "2.0\n",
      "3.0\n",
      "4.0\n",
      "5.0\n"
     ]
    }
   ],
   "source": [
    "for x in map(lambda number: number / 10, my_list):\n",
    "    print(x)"
   ]
  },
  {
   "cell_type": "code",
   "execution_count": 10,
   "id": "ed0c5d0a",
   "metadata": {},
   "outputs": [
    {
     "data": {
      "text/plain": [
       "[1.0, 2.0, 3.0, 4.0, 5.0]"
      ]
     },
     "execution_count": 10,
     "metadata": {},
     "output_type": "execute_result"
    }
   ],
   "source": [
    "list(map(lambda number: number / 10, my_list))"
   ]
  },
  {
   "cell_type": "code",
   "execution_count": null,
   "id": "fc44361a",
   "metadata": {},
   "outputs": [],
   "source": []
  },
  {
   "cell_type": "code",
   "execution_count": null,
   "id": "6c192aa4",
   "metadata": {},
   "outputs": [],
   "source": []
  },
  {
   "cell_type": "code",
   "execution_count": null,
   "id": "835083e4",
   "metadata": {},
   "outputs": [],
   "source": []
  },
  {
   "cell_type": "code",
   "execution_count": null,
   "id": "7faf522a",
   "metadata": {},
   "outputs": [],
   "source": []
  },
  {
   "cell_type": "code",
   "execution_count": null,
   "id": "4f07269c",
   "metadata": {},
   "outputs": [],
   "source": []
  },
  {
   "cell_type": "code",
   "execution_count": null,
   "id": "3cd8c883",
   "metadata": {},
   "outputs": [],
   "source": []
  },
  {
   "cell_type": "code",
   "execution_count": null,
   "id": "bf045c03",
   "metadata": {},
   "outputs": [],
   "source": []
  }
 ],
 "metadata": {
  "kernelspec": {
   "display_name": "Python 3.9.7 64-bit ('base': conda)",
   "language": "python",
   "name": "python397jvsc74a57bd040d3a090f54c6569ab1632332b64b2c03c39dcf918b08424e98f38b5ae0af88f"
  },
  "language_info": {
   "codemirror_mode": {
    "name": "ipython",
    "version": 3
   },
   "file_extension": ".py",
   "mimetype": "text/x-python",
   "name": "python",
   "nbconvert_exporter": "python",
   "pygments_lexer": "ipython3",
   "version": "3.9.7"
  }
 },
 "nbformat": 4,
 "nbformat_minor": 5
}
