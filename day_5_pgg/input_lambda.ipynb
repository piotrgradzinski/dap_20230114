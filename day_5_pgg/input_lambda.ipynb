{
 "cells": [
  {
   "cell_type": "markdown",
   "id": "63cfe7c7",
   "metadata": {},
   "source": [
    "# Lambda functions\n",
    "\n",
    "- function expression used as data\n",
    "- https://realpython.com/python-lambda/\n",
    "\n",
    "```\n",
    "my_fun = lambda ARGUMENT_1, ARGUMENT_2: EXPRESSION\n",
    "```\n",
    "\n",
    "```\n",
    "def my_fum(ARGUMENT_1, ARGUMENT_2):\n",
    "    return EXPRESSION\n",
    "```"
   ]
  },
  {
   "cell_type": "code",
   "execution_count": 1,
   "id": "b7980884",
   "metadata": {},
   "outputs": [
    {
     "data": {
      "text/plain": [
       "9"
      ]
     },
     "execution_count": 1,
     "metadata": {},
     "output_type": "execute_result"
    }
   ],
   "source": [
    "def square(number):\n",
    "    return number ** 2\n",
    "\n",
    "square(3)"
   ]
  },
  {
   "cell_type": "code",
   "execution_count": 3,
   "id": "2949a216",
   "metadata": {},
   "outputs": [
    {
     "data": {
      "text/plain": [
       "4"
      ]
     },
     "execution_count": 3,
     "metadata": {},
     "output_type": "execute_result"
    }
   ],
   "source": [
    "# the same same functionality as above\n",
    "\n",
    "square = lambda number: number ** 2\n",
    "\n",
    "square(2)\n"
   ]
  },
  {
   "cell_type": "code",
   "execution_count": 5,
   "id": "5d1e7c2b",
   "metadata": {},
   "outputs": [
    {
     "data": {
      "text/plain": [
       "5"
      ]
     },
     "execution_count": 5,
     "metadata": {},
     "output_type": "execute_result"
    }
   ],
   "source": [
    "two_number_addition = lambda a, b: a + b\n",
    "two_number_addition(2, 3)"
   ]
  },
  {
   "cell_type": "markdown",
   "id": "803ef650",
   "metadata": {},
   "source": [
    "## Where we can use lambda functions?"
   ]
  },
  {
   "cell_type": "code",
   "execution_count": 7,
   "id": "b1759c65",
   "metadata": {},
   "outputs": [
    {
     "data": {
      "text/plain": [
       "[1.0, 2.0, 3.0, 4.0, 5.0]"
      ]
     },
     "execution_count": 7,
     "metadata": {},
     "output_type": "execute_result"
    }
   ],
   "source": [
    "my_list = [10, 20, 30, 40, 50]\n",
    "\n",
    "# I want to have new list based on my_list with numbers divided by 10\n",
    "# with no fancy stuff\n",
    "new_list = []\n",
    "for number in my_list:\n",
    "    new_list.append(number / 10)\n",
    "new_list"
   ]
  },
  {
   "cell_type": "code",
   "execution_count": 8,
   "id": "b4353be4",
   "metadata": {},
   "outputs": [
    {
     "data": {
      "text/plain": [
       "[1.0, 2.0, 3.0, 4.0, 5.0]"
      ]
     },
     "execution_count": 8,
     "metadata": {},
     "output_type": "execute_result"
    }
   ],
   "source": [
    "# with list comprehensions\n",
    "new_list = [number / 10 for number in my_list]\n",
    "new_list"
   ]
  },
  {
   "cell_type": "markdown",
   "id": "657ec24d",
   "metadata": {},
   "source": [
    "### map + lambda funtions\n",
    "- https://docs.python.org/3/library/functions.html#map\n",
    "- by default map function returns an iterator object, so something we can iterate over\n",
    "- with this iterator object we can do several things\n",
    "    - use it as a source in `for` loop\n",
    "    - convert it to collection"
   ]
  },
  {
   "cell_type": "code",
   "execution_count": 9,
   "id": "9c0188dc",
   "metadata": {},
   "outputs": [
    {
     "data": {
      "text/plain": [
       "<map at 0x7fb0d870f880>"
      ]
     },
     "execution_count": 9,
     "metadata": {},
     "output_type": "execute_result"
    }
   ],
   "source": [
    "map(lambda number: number / 10, my_list)"
   ]
  },
  {
   "cell_type": "code",
   "execution_count": 11,
   "id": "90e4388b",
   "metadata": {},
   "outputs": [
    {
     "name": "stdout",
     "output_type": "stream",
     "text": [
      "1.0\n",
      "2.0\n",
      "3.0\n",
      "4.0\n",
      "5.0\n"
     ]
    }
   ],
   "source": [
    "for x in map(lambda number: number / 10, my_list):\n",
    "    print(x)"
   ]
  },
  {
   "cell_type": "code",
   "execution_count": 10,
   "id": "ce81c4a2",
   "metadata": {},
   "outputs": [
    {
     "data": {
      "text/plain": [
       "[1.0, 2.0, 3.0, 4.0, 5.0]"
      ]
     },
     "execution_count": 10,
     "metadata": {},
     "output_type": "execute_result"
    }
   ],
   "source": [
    "list(map(lambda number: number / 10, my_list))"
   ]
  },
  {
   "cell_type": "code",
   "execution_count": 17,
   "id": "d23b66ff",
   "metadata": {},
   "outputs": [],
   "source": [
    "my_list = [-5, 10, -10, 2, 15, -8, 6]"
   ]
  },
  {
   "cell_type": "code",
   "execution_count": 18,
   "id": "2c59c528",
   "metadata": {},
   "outputs": [
    {
     "data": {
      "text/plain": [
       "<filter at 0x7fb100f614c0>"
      ]
     },
     "execution_count": 18,
     "metadata": {},
     "output_type": "execute_result"
    }
   ],
   "source": [
    "filter(lambda x: x > 0, my_list)"
   ]
  },
  {
   "cell_type": "code",
   "execution_count": 19,
   "id": "28b17160",
   "metadata": {},
   "outputs": [
    {
     "data": {
      "text/plain": [
       "[10, 2, 15, 6]"
      ]
     },
     "execution_count": 19,
     "metadata": {},
     "output_type": "execute_result"
    }
   ],
   "source": [
    "list(filter(lambda x: x > 0, my_list))"
   ]
  },
  {
   "cell_type": "code",
   "execution_count": 21,
   "id": "7d57be03",
   "metadata": {},
   "outputs": [
    {
     "data": {
      "text/plain": [
       "[(1, 3), (2, 2), (3, 4), (4, 1)]"
      ]
     },
     "execution_count": 21,
     "metadata": {},
     "output_type": "execute_result"
    }
   ],
   "source": [
    "my_list = [(2, 2), (3, 4), (4, 1), (1, 3)]\n",
    "my_list.sort()\n",
    "my_list"
   ]
  },
  {
   "cell_type": "code",
   "execution_count": 22,
   "id": "cac36f38",
   "metadata": {},
   "outputs": [
    {
     "data": {
      "text/plain": [
       "[(4, 1), (2, 2), (1, 3), (3, 4)]"
      ]
     },
     "execution_count": 22,
     "metadata": {},
     "output_type": "execute_result"
    }
   ],
   "source": [
    "my_list.sort(key=lambda t: t[1])\n",
    "my_list"
   ]
  },
  {
   "cell_type": "markdown",
   "id": "1fda90ac",
   "metadata": {},
   "source": [
    "## Exercise\n",
    "\n",
    "I have two lists:\n",
    "- weights\n",
    "- heights\n",
    "\n",
    "I want to have a new list that will contain [BMI](https://en.wikipedia.org/wiki/Body_mass_index) values for each weight/height pair.\n",
    "\n",
    "#### BMI formula\n",
    "![BMI formula](https://wikimedia.org/api/rest_v1/media/math/render/svg/ce191830a28c6f957ca8b1644bc2ac6b34b8545b)\n",
    "\n",
    "Steps:\n",
    "- adjust (map) heights\n",
    "- connect two lists together (zip)\n",
    "- calculate BMI based on above formula"
   ]
  },
  {
   "cell_type": "code",
   "execution_count": 23,
   "id": "d6a7d4de",
   "metadata": {},
   "outputs": [],
   "source": [
    "weights = [102, 150, 57, 128, 138, 56, 120, 53, 147, 119, 120, 114, 137, 79, 81, 94, 100, 88, 119, 93, 70, 112, 87, 56, 116, 138, 116, 111, 61, 117, 75, 85, 150, 120, 79, 66, 60, 127, 145, 121, 78, 140, 61, 106, 143, 142, 77, 147, 101, 87, 121, 124, 139, 80, 68, 90, 64, 102, 122, 61, 94, 86, 54, 72, 59, 89, 61, 101, 93, 65, 63, 113, 112, 77, 79, 89, 52, 124, 135, 50, 120, 109, 124, 57, 73, 54, 143, 52, 65, 63, 63, 119, 75, 70, 135, 123, 107, 102, 70, 82]\n",
    "heights = [139, 186, 203, 200, 143, 218, 133, 213, 145, 141, 216, 126, 201, 196, 212, 209, 212, 211, 151, 183, 172, 204, 134, 125, 144, 152, 163, 208, 181, 205, 157, 194, 163, 120, 123, 130, 219, 218, 177, 132, 212, 202, 166, 198, 127, 158, 175, 186, 176, 130, 217, 198, 181, 218, 216, 148, 210, 200, 138, 156, 139, 125, 148, 137, 207, 179, 146, 134, 188, 165, 209, 193, 161, 134, 194, 136, 147, 194, 160, 167, 152, 138, 180, 137, 177, 185, 130, 124, 165, 126, 164, 180, 207, 120, 146, 213, 121, 181, 198, 175]\n",
    "\n"
   ]
  },
  {
   "cell_type": "code",
   "execution_count": null,
   "id": "92d9b141",
   "metadata": {},
   "outputs": [],
   "source": []
  }
 ],
 "metadata": {
  "kernelspec": {
   "display_name": "Python 3.9.7 64-bit ('base': conda)",
   "language": "python",
   "name": "python397jvsc74a57bd040d3a090f54c6569ab1632332b64b2c03c39dcf918b08424e98f38b5ae0af88f"
  },
  "language_info": {
   "codemirror_mode": {
    "name": "ipython",
    "version": 3
   },
   "file_extension": ".py",
   "mimetype": "text/x-python",
   "name": "python",
   "nbconvert_exporter": "python",
   "pygments_lexer": "ipython3",
   "version": "3.9.7"
  }
 },
 "nbformat": 4,
 "nbformat_minor": 5
}
