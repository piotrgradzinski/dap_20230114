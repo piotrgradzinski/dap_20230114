{
 "cells": [
  {
   "cell_type": "markdown",
   "id": "ccadbf2c",
   "metadata": {},
   "source": [
    "# NumPy #2"
   ]
  },
  {
   "cell_type": "markdown",
   "id": "331235e1",
   "metadata": {},
   "source": [
    "## Drawing functions in NumPy"
   ]
  },
  {
   "cell_type": "code",
   "execution_count": 2,
   "id": "a13df51f",
   "metadata": {},
   "outputs": [],
   "source": [
    "import numpy as np"
   ]
  },
  {
   "cell_type": "code",
   "execution_count": 18,
   "id": "03509885",
   "metadata": {},
   "outputs": [
    {
     "data": {
      "text/plain": [
       "array([0.58369009, 0.46839207, 0.98423865, 0.6905343 , 0.92292745,\n",
       "       0.54902657, 0.83966875, 0.49731972, 0.96728959, 0.26704111,\n",
       "       0.89299173, 0.58887278, 0.74423608, 0.73542626, 0.58572959,\n",
       "       0.19911575, 0.79619479, 0.48505647, 0.36707742, 0.66068489,\n",
       "       0.3346209 , 0.39011352, 0.19100744, 0.48552379, 0.90946648,\n",
       "       0.44362529, 0.54912887, 0.88646274, 0.13040906, 0.25917804,\n",
       "       0.81270015, 0.95388754, 0.74807155, 0.5547586 , 0.44442415,\n",
       "       0.51691777, 0.8293064 , 0.72374558, 0.66393571, 0.76243411,\n",
       "       0.03019564, 0.85714371, 0.82472359, 0.67847727, 0.64212595,\n",
       "       0.17135384, 0.67570307, 0.86258568, 0.25633355, 0.09363788,\n",
       "       0.37291611, 0.82905766, 0.23468174, 0.42615941, 0.14890513,\n",
       "       0.89414272, 0.13931208, 0.14159772, 0.34418966, 0.01633847,\n",
       "       0.37100093, 0.16448578, 0.68458958, 0.31680971, 0.9822913 ,\n",
       "       0.64808561, 0.4271969 , 0.34403638, 0.76489726, 0.46604876,\n",
       "       0.916852  , 0.36233218, 0.07617755, 0.42852504, 0.62379696,\n",
       "       0.9985668 , 0.18557874, 0.32445715, 0.24231691, 0.15095888,\n",
       "       0.08046879, 0.4327243 , 0.40282001, 0.41347856, 0.26907403,\n",
       "       0.03947817, 0.96539071, 0.75420724, 0.98388616, 0.72767027,\n",
       "       0.7161507 , 0.00814793, 0.48090744, 0.43876453, 0.4814415 ,\n",
       "       0.97594496, 0.58261867, 0.03758598, 0.71976103, 0.43721728])"
      ]
     },
     "execution_count": 18,
     "metadata": {},
     "output_type": "execute_result"
    }
   ],
   "source": [
    "np.random.rand(100)  # 100 numbers in the range between 0 and 1."
   ]
  },
  {
   "cell_type": "code",
   "execution_count": 37,
   "id": "88ad9cba",
   "metadata": {},
   "outputs": [
    {
     "data": {
      "text/plain": [
       "8"
      ]
     },
     "execution_count": 37,
     "metadata": {},
     "output_type": "execute_result"
    }
   ],
   "source": [
    "np.random.randint(10)"
   ]
  },
  {
   "cell_type": "code",
   "execution_count": 72,
   "id": "e21d3e15",
   "metadata": {},
   "outputs": [
    {
     "data": {
      "text/plain": [
       "-2"
      ]
     },
     "execution_count": 72,
     "metadata": {},
     "output_type": "execute_result"
    }
   ],
   "source": [
    "np.random.randint(-10, 10)"
   ]
  },
  {
   "cell_type": "code",
   "execution_count": 86,
   "id": "23bf3ff1",
   "metadata": {},
   "outputs": [
    {
     "data": {
      "text/plain": [
       "array([ 2, -3, -6, -8,  1])"
      ]
     },
     "execution_count": 86,
     "metadata": {},
     "output_type": "execute_result"
    }
   ],
   "source": [
    "np.random.randint(-10, 10, 5)"
   ]
  },
  {
   "cell_type": "code",
   "execution_count": 137,
   "id": "8847da35",
   "metadata": {},
   "outputs": [],
   "source": []
  },
  {
   "cell_type": "code",
   "execution_count": 156,
   "id": "b71a0a81",
   "metadata": {},
   "outputs": [
    {
     "data": {
      "text/plain": [
       "-1"
      ]
     },
     "execution_count": 156,
     "metadata": {},
     "output_type": "execute_result"
    }
   ],
   "source": [
    "np.random.seed(10)\n",
    "np.random.randint(-10, 10)"
   ]
  },
  {
   "cell_type": "code",
   "execution_count": 167,
   "id": "32ea58a0",
   "metadata": {},
   "outputs": [
    {
     "data": {
      "text/plain": [
       "array([0.77132064, 0.02075195, 0.63364823, 0.74880388, 0.49850701,\n",
       "       0.22479665, 0.19806286, 0.76053071, 0.16911084, 0.08833981])"
      ]
     },
     "execution_count": 167,
     "metadata": {},
     "output_type": "execute_result"
    }
   ],
   "source": [
    "np.random.seed(10)\n",
    "np.random.rand(10)"
   ]
  },
  {
   "cell_type": "code",
   "execution_count": 173,
   "id": "1d93fd7b",
   "metadata": {},
   "outputs": [
    {
     "data": {
      "text/plain": [
       "(array([0.49492048, 0.33474585, 0.79511852, ..., 0.03362097, 0.07008994,\n",
       "        0.09211196]),\n",
       " 10000)"
      ]
     },
     "execution_count": 173,
     "metadata": {},
     "output_type": "execute_result"
    }
   ],
   "source": [
    "numbers = np.random.rand(10_000)\n",
    "numbers, len(numbers)"
   ]
  },
  {
   "cell_type": "code",
   "execution_count": 175,
   "id": "e4ae8c85",
   "metadata": {},
   "outputs": [],
   "source": [
    "import matplotlib.pyplot as plt"
   ]
  },
  {
   "cell_type": "code",
   "execution_count": 179,
   "id": "c4722801",
   "metadata": {},
   "outputs": [
    {
     "data": {
      "text/plain": [
       "(array([1029., 1028., 1018.,  972., 1029.,  995., 1061.,  905.,  970.,\n",
       "         993.]),\n",
       " array([1.12895450e-04, 1.00090021e-01, 2.00067146e-01, 3.00044271e-01,\n",
       "        4.00021396e-01, 4.99998521e-01, 5.99975646e-01, 6.99952771e-01,\n",
       "        7.99929897e-01, 8.99907022e-01, 9.99884147e-01]),\n",
       " <BarContainer object of 10 artists>)"
      ]
     },
     "execution_count": 179,
     "metadata": {},
     "output_type": "execute_result"
    },
    {
     "data": {
      "image/png": "[encoded data removed]",
      "text/plain": [
       "<Figure size 432x288 with 1 Axes>"
      ]
     },
     "metadata": {
      "needs_background": "light"
     },
     "output_type": "display_data"
    }
   ],
   "source": [
    "# uniform distribution with np.random.rand() - we have the same probability of getting a certain element\n",
    "plt.hist(numbers, bins=10)"
   ]
  },
  {
   "cell_type": "code",
   "execution_count": 181,
   "id": "502308d8",
   "metadata": {},
   "outputs": [
    {
     "data": {
      "text/plain": [
       "array([ 0.50988935, -0.33007531, -0.41196715, ...,  0.03978617,\n",
       "       -0.249019  ,  1.86553809])"
      ]
     },
     "execution_count": 181,
     "metadata": {},
     "output_type": "execute_result"
    }
   ],
   "source": [
    "numbers = np.random.randn(100_000)  # normal, Gaussian distribution\n",
    "numbers"
   ]
  },
  {
   "cell_type": "code",
   "execution_count": 182,
   "id": "a034f50e",
   "metadata": {},
   "outputs": [
    {
     "data": {
      "text/plain": [
       "(array([2.0000e+00, 8.0000e+00, 3.7000e+01, 9.2000e+01, 2.7400e+02,\n",
       "        6.4000e+02, 1.5540e+03, 3.0460e+03, 5.2520e+03, 8.0930e+03,\n",
       "        1.0956e+04, 1.3221e+04, 1.4140e+04, 1.3146e+04, 1.0858e+04,\n",
       "        8.0840e+03, 5.1090e+03, 2.9140e+03, 1.5240e+03, 6.5400e+02,\n",
       "        2.6200e+02, 1.0400e+02, 2.1000e+01, 5.0000e+00, 4.0000e+00]),\n",
       " array([-4.42700945, -4.07226618, -3.7175229 , -3.36277962, -3.00803635,\n",
       "        -2.65329307, -2.29854979, -1.94380652, -1.58906324, -1.23431996,\n",
       "        -0.87957669, -0.52483341, -0.17009013,  0.18465314,  0.53939642,\n",
       "         0.8941397 ,  1.24888297,  1.60362625,  1.95836953,  2.3131128 ,\n",
       "         2.66785608,  3.02259936,  3.37734263,  3.73208591,  4.08682919,\n",
       "         4.44157246]),\n",
       " <BarContainer object of 25 artists>)"
      ]
     },
     "execution_count": 182,
     "metadata": {},
     "output_type": "execute_result"
    },
    {
     "data": {
      "image/png": "[encoded data removed]",
      "text/plain": [
       "<Figure size 432x288 with 1 Axes>"
      ]
     },
     "metadata": {
      "needs_background": "light"
     },
     "output_type": "display_data"
    }
   ],
   "source": [
    "plt.hist(numbers, bins=25)"
   ]
  },
  {
   "cell_type": "markdown",
   "id": "f9a3ce97",
   "metadata": {},
   "source": [
    "### Conditions and filtering"
   ]
  },
  {
   "cell_type": "code",
   "execution_count": 207,
   "id": "35f97839",
   "metadata": {},
   "outputs": [
    {
     "data": {
      "text/plain": [
       "array([ 7,  0, -5, -2,  6, -2,  2,  4, -2,  0, -3, -1,  2,  1,  3,  3,  7,\n",
       "        5, -4,  1])"
      ]
     },
     "execution_count": 207,
     "metadata": {},
     "output_type": "execute_result"
    }
   ],
   "source": [
    "np.random.seed(0)\n",
    "arr = np.random.randint(-5, 10, 20)\n",
    "arr"
   ]
  },
  {
   "cell_type": "code",
   "execution_count": 186,
   "id": "e0c05c7c",
   "metadata": {},
   "outputs": [
    {
     "data": {
      "text/plain": [
       "array([ True, False, False, False,  True, False,  True,  True, False,\n",
       "       False, False, False,  True,  True,  True,  True,  True,  True,\n",
       "       False,  True])"
      ]
     },
     "execution_count": 186,
     "metadata": {},
     "output_type": "execute_result"
    }
   ],
   "source": [
    "arr > 0  # mask with True/False values depending on if particular value from the array meets the condition or not"
   ]
  },
  {
   "cell_type": "code",
   "execution_count": 188,
   "id": "712b7303",
   "metadata": {},
   "outputs": [
    {
     "data": {
      "text/plain": [
       "array([ True, False, False, False,  True, False,  True,  True, False,\n",
       "       False, False, False,  True,  True,  True,  True,  True,  True,\n",
       "       False,  True])"
      ]
     },
     "execution_count": 188,
     "metadata": {},
     "output_type": "execute_result"
    }
   ],
   "source": [
    "my_mask = arr > 0\n",
    "my_mask"
   ]
  },
  {
   "cell_type": "code",
   "execution_count": 190,
   "id": "a6080a73",
   "metadata": {},
   "outputs": [
    {
     "data": {
      "text/plain": [
       "array([7, 6, 2, 4, 2, 1, 3, 3, 7, 5, 1])"
      ]
     },
     "execution_count": 190,
     "metadata": {},
     "output_type": "execute_result"
    }
   ],
   "source": [
    "arr[my_mask]  # I'm using indexing operator that accepts the mask and returning new array with elements mathing the condition"
   ]
  },
  {
   "cell_type": "code",
   "execution_count": 192,
   "id": "2874e8da",
   "metadata": {},
   "outputs": [
    {
     "data": {
      "text/plain": [
       "array([7, 6, 2, 4, 2, 1, 3, 3, 7, 5, 1])"
      ]
     },
     "execution_count": 192,
     "metadata": {},
     "output_type": "execute_result"
    }
   ],
   "source": [
    "arr[arr > 0]"
   ]
  },
  {
   "cell_type": "markdown",
   "id": "4ff7b7e3",
   "metadata": {},
   "source": [
    "We can combine several conditions together but we can't use standard python logical operators (like `and`, `or`,  `not`) but instead we have to use: `&` for and, `|` for or and `~` for negation / not. When using operators each condition has to be enclosed in parentheses, because they are stronger in Python syntax."
   ]
  },
  {
   "cell_type": "code",
   "execution_count": 195,
   "id": "000ec11c",
   "metadata": {},
   "outputs": [
    {
     "data": {
      "text/plain": [
       "array([ 7,  0, -5, -2,  6, -2,  2,  4, -2,  0, -3, -1,  2,  1,  3,  3,  7,\n",
       "        5, -4,  1])"
      ]
     },
     "execution_count": 195,
     "metadata": {},
     "output_type": "execute_result"
    }
   ],
   "source": [
    "arr"
   ]
  },
  {
   "cell_type": "code",
   "execution_count": 194,
   "id": "614abfbd",
   "metadata": {},
   "outputs": [
    {
     "data": {
      "text/plain": [
       "array([0, 2, 4, 0, 2, 1, 3, 3, 1])"
      ]
     },
     "execution_count": 194,
     "metadata": {},
     "output_type": "execute_result"
    }
   ],
   "source": [
    "arr[(arr >= 0) & (arr < 5)]"
   ]
  },
  {
   "cell_type": "code",
   "execution_count": 196,
   "id": "a1d66757",
   "metadata": {},
   "outputs": [
    {
     "data": {
      "text/plain": [
       "array([ 7,  0,  6,  2,  4,  0, -3,  2,  1,  3,  3,  7,  5,  1])"
      ]
     },
     "execution_count": 196,
     "metadata": {},
     "output_type": "execute_result"
    }
   ],
   "source": [
    "arr[(arr >= 0) | (arr == -3)]"
   ]
  },
  {
   "cell_type": "code",
   "execution_count": 201,
   "id": "910cdce8",
   "metadata": {},
   "outputs": [
    {
     "data": {
      "text/plain": [
       "array([ True, False, False, False, False, False, False, False, False,\n",
       "       False, False, False, False, False, False, False,  True, False,\n",
       "       False, False])"
      ]
     },
     "execution_count": 201,
     "metadata": {},
     "output_type": "execute_result"
    }
   ],
   "source": [
    "arr > 6"
   ]
  },
  {
   "cell_type": "markdown",
   "id": "844d08ed",
   "metadata": {},
   "source": [
    "For NumPy arrays we can use dedicated methods:\n",
    "- https://numpy.org/doc/stable/reference/generated/numpy.any.html\n",
    "- https://numpy.org/doc/stable/reference/generated/numpy.all.html\n",
    "\n",
    "and in plain python we can use:\n",
    "- https://docs.python.org/3/library/functions.html#all\n",
    "- https://docs.python.org/3/library/functions.html#any"
   ]
  },
  {
   "cell_type": "code",
   "execution_count": 199,
   "id": "0729cc77",
   "metadata": {},
   "outputs": [
    {
     "data": {
      "text/plain": [
       "True"
      ]
     },
     "execution_count": 199,
     "metadata": {},
     "output_type": "execute_result"
    }
   ],
   "source": [
    "(arr > 6).any()  # do we have any element in the array that meets the condition"
   ]
  },
  {
   "cell_type": "code",
   "execution_count": 203,
   "id": "7ca53022",
   "metadata": {},
   "outputs": [
    {
     "data": {
      "text/plain": [
       "False"
      ]
     },
     "execution_count": 203,
     "metadata": {},
     "output_type": "execute_result"
    }
   ],
   "source": [
    "(arr > 6).all()"
   ]
  },
  {
   "cell_type": "code",
   "execution_count": 208,
   "id": "505b94f1",
   "metadata": {},
   "outputs": [
    {
     "data": {
      "text/plain": [
       "array([7, 7])"
      ]
     },
     "execution_count": 208,
     "metadata": {},
     "output_type": "execute_result"
    }
   ],
   "source": [
    "arr[arr > 6]"
   ]
  },
  {
   "cell_type": "code",
   "execution_count": 209,
   "id": "ff3d4100",
   "metadata": {},
   "outputs": [
    {
     "data": {
      "text/plain": [
       "array([74, 48, 92, 42])"
      ]
     },
     "execution_count": 209,
     "metadata": {},
     "output_type": "execute_result"
    }
   ],
   "source": [
    "arr = np.random.randint(-100, 100, 30)\n",
    "\n",
    "# Ex: I want to have numbers that are greater than 0 and divisible by 2\n",
    "arr[(arr > 0) & (arr % 2 == 0)]"
   ]
  },
  {
   "cell_type": "code",
   "execution_count": 213,
   "id": "8d933efe",
   "metadata": {},
   "outputs": [
    {
     "data": {
      "text/plain": [
       "(array([  1.,   4.,  10.,  nan,  20.,  nan, -30.]),\n",
       " array([  1,   4,  10,  20, -30]))"
      ]
     },
     "execution_count": 213,
     "metadata": {},
     "output_type": "execute_result"
    }
   ],
   "source": [
    "# nan - not a number - https://numpy.org/doc/stable/reference/constants.html#numpy.NAN\n",
    "arr = np.array([1, 4, 10, np.nan, 20, np.nan, -30])\n",
    "arr2 = np.array([1, 4, 10, 20, -30])\n",
    "arr, arr2"
   ]
  },
  {
   "cell_type": "code",
   "execution_count": 214,
   "id": "cf4de507",
   "metadata": {},
   "outputs": [
    {
     "data": {
      "text/plain": [
       "5"
      ]
     },
     "execution_count": 214,
     "metadata": {},
     "output_type": "execute_result"
    }
   ],
   "source": [
    "arr2.sum()"
   ]
  },
  {
   "cell_type": "code",
   "execution_count": 215,
   "id": "8e6018f2",
   "metadata": {},
   "outputs": [
    {
     "data": {
      "text/plain": [
       "nan"
      ]
     },
     "execution_count": 215,
     "metadata": {},
     "output_type": "execute_result"
    }
   ],
   "source": [
    "arr.sum()"
   ]
  },
  {
   "cell_type": "code",
   "execution_count": 216,
   "id": "6a6e0884",
   "metadata": {},
   "outputs": [
    {
     "data": {
      "text/plain": [
       "nan"
      ]
     },
     "execution_count": 216,
     "metadata": {},
     "output_type": "execute_result"
    }
   ],
   "source": [
    "10 + np.nan"
   ]
  },
  {
   "cell_type": "code",
   "execution_count": 220,
   "id": "37c9649a",
   "metadata": {},
   "outputs": [
    {
     "data": {
      "text/plain": [
       "(array([False, False, False,  True, False,  True, False]),\n",
       " array([ True,  True,  True, False,  True, False,  True]))"
      ]
     },
     "execution_count": 220,
     "metadata": {},
     "output_type": "execute_result"
    }
   ],
   "source": [
    "# check where in array we have nans - https://numpy.org/doc/stable/reference/generated/numpy.isnan.html\n",
    "np.isnan(arr), ~np.isnan(arr)"
   ]
  },
  {
   "cell_type": "code",
   "execution_count": 219,
   "id": "1907d758",
   "metadata": {},
   "outputs": [
    {
     "data": {
      "text/plain": [
       "array([  1.,   4.,  10.,  20., -30.])"
      ]
     },
     "execution_count": 219,
     "metadata": {},
     "output_type": "execute_result"
    }
   ],
   "source": [
    "# we can use it to filter our array and get a new one without nans\n",
    "arr = np.array([1, 4, 10, np.nan, 20, np.nan, -30])\n",
    "\n",
    "arr[~np.isnan(arr)]"
   ]
  },
  {
   "cell_type": "code",
   "execution_count": 223,
   "id": "94f95709",
   "metadata": {},
   "outputs": [
    {
     "data": {
      "text/plain": [
       "array([False, False, False,  True, False,  True, False])"
      ]
     },
     "execution_count": 223,
     "metadata": {},
     "output_type": "execute_result"
    }
   ],
   "source": [
    "np.isnan(arr)"
   ]
  },
  {
   "cell_type": "code",
   "execution_count": 224,
   "id": "cbaeb0e0",
   "metadata": {},
   "outputs": [
    {
     "data": {
      "text/plain": [
       "2"
      ]
     },
     "execution_count": 224,
     "metadata": {},
     "output_type": "execute_result"
    }
   ],
   "source": [
    "np.isnan(arr).sum()"
   ]
  },
  {
   "cell_type": "markdown",
   "id": "1a18e0fb",
   "metadata": {},
   "source": [
    "## Aggregate functions"
   ]
  },
  {
   "cell_type": "code",
   "execution_count": 236,
   "id": "a698057d",
   "metadata": {},
   "outputs": [
    {
     "data": {
      "text/plain": [
       "array([[ 0,  1,  2,  3,  4,  5,  6,  7,  8,  9],\n",
       "       [10, 11, 12, 13, 14, 15, 16, 17, 18, 19],\n",
       "       [20, 21, 22, 23, 24, 25, 26, 27, 28, 29],\n",
       "       [30, 31, 32, 33, 34, 35, 36, 37, 38, 39],\n",
       "       [40, 41, 42, 43, 44, 45, 46, 47, 48, 49]])"
      ]
     },
     "execution_count": 236,
     "metadata": {},
     "output_type": "execute_result"
    }
   ],
   "source": [
    "arr = np.arange(0, 50).reshape(5, -1)\n",
    "arr"
   ]
  },
  {
   "cell_type": "code",
   "execution_count": 237,
   "id": "70da126d",
   "metadata": {},
   "outputs": [
    {
     "data": {
      "text/plain": [
       "1225"
      ]
     },
     "execution_count": 237,
     "metadata": {},
     "output_type": "execute_result"
    }
   ],
   "source": [
    "arr.sum()"
   ]
  },
  {
   "cell_type": "code",
   "execution_count": 238,
   "id": "2cd625f0",
   "metadata": {},
   "outputs": [
    {
     "data": {
      "text/plain": [
       "24.5"
      ]
     },
     "execution_count": 238,
     "metadata": {},
     "output_type": "execute_result"
    }
   ],
   "source": [
    "arr.mean()"
   ]
  },
  {
   "cell_type": "code",
   "execution_count": 240,
   "id": "84a1bb3d",
   "metadata": {},
   "outputs": [
    {
     "data": {
      "text/plain": [
       "14.430869689661812"
      ]
     },
     "execution_count": 240,
     "metadata": {},
     "output_type": "execute_result"
    }
   ],
   "source": [
    "arr.std()  # https://en.wikipedia.org/wiki/Standard_deviation"
   ]
  },
  {
   "cell_type": "markdown",
   "id": "73649178",
   "metadata": {},
   "source": [
    "- https://numpy.org/doc/stable/reference/generated/numpy.sum.html\n",
    "- https://numpy.org/doc/stable/reference/generated/numpy.ndarray.min.html"
   ]
  },
  {
   "cell_type": "code",
   "execution_count": 243,
   "id": "cd59d294",
   "metadata": {},
   "outputs": [
    {
     "data": {
      "text/plain": [
       "(50, 0, 49)"
      ]
     },
     "execution_count": 243,
     "metadata": {},
     "output_type": "execute_result"
    }
   ],
   "source": [
    "arr.size, arr.min(), arr.max()"
   ]
  },
  {
   "cell_type": "markdown",
   "id": "b8f81e74",
   "metadata": {},
   "source": [
    "![axes](https://cdn-coiao.nitrocdn.com/CYHudqJZsSxQpAPzLkHFOkuzFKDpEHGF/assets/static/optimized/rev-85bf93c/wp-content/uploads/2018/12/numpy-arrays-have-axes_updated_v2.png)\n",
    "src: https://www.sharpsightlabs.com/blog/numpy-axes-explained/"
   ]
  },
  {
   "cell_type": "code",
   "execution_count": 248,
   "id": "2e211bca",
   "metadata": {},
   "outputs": [
    {
     "data": {
      "text/plain": [
       "array([[ 0,  1,  2,  3,  4,  5,  6,  7,  8,  9],\n",
       "       [10, 11, 12, 13, 14, 15, 16, 17, 18, 19],\n",
       "       [20, 21, 22, 23, 24, 25, 26, 27, 28, 29],\n",
       "       [30, 31, 32, 33, 34, 35, 36, 37, 38, 39],\n",
       "       [40, 41, 42, 43, 44, 45, 46, 47, 48, 49]])"
      ]
     },
     "execution_count": 248,
     "metadata": {},
     "output_type": "execute_result"
    }
   ],
   "source": [
    "arr"
   ]
  },
  {
   "cell_type": "code",
   "execution_count": 246,
   "id": "89ef66ef",
   "metadata": {},
   "outputs": [
    {
     "data": {
      "text/plain": [
       "array([100, 105, 110, 115, 120, 125, 130, 135, 140, 145])"
      ]
     },
     "execution_count": 246,
     "metadata": {},
     "output_type": "execute_result"
    }
   ],
   "source": [
    "arr.sum(axis=0)  # by rows"
   ]
  },
  {
   "cell_type": "code",
   "execution_count": 249,
   "id": "574303e7",
   "metadata": {},
   "outputs": [
    {
     "data": {
      "text/plain": [
       "array([ 45, 145, 245, 345, 445])"
      ]
     },
     "execution_count": 249,
     "metadata": {},
     "output_type": "execute_result"
    }
   ],
   "source": [
    "arr.sum(axis=1)  # by columns"
   ]
  },
  {
   "cell_type": "code",
   "execution_count": 250,
   "id": "9ce79c6a",
   "metadata": {},
   "outputs": [
    {
     "data": {
      "text/plain": [
       "array([[ 45],\n",
       "       [145],\n",
       "       [245],\n",
       "       [345],\n",
       "       [445]])"
      ]
     },
     "execution_count": 250,
     "metadata": {},
     "output_type": "execute_result"
    }
   ],
   "source": [
    "arr.sum(axis=1).reshape(-1, 1)"
   ]
  },
  {
   "cell_type": "code",
   "execution_count": 251,
   "id": "300dab46",
   "metadata": {},
   "outputs": [
    {
     "data": {
      "text/plain": [
       "array([[ 45],\n",
       "       [145],\n",
       "       [245],\n",
       "       [345],\n",
       "       [445]])"
      ]
     },
     "execution_count": 251,
     "metadata": {},
     "output_type": "execute_result"
    }
   ],
   "source": [
    "arr.sum(axis=1, keepdims=True)"
   ]
  },
  {
   "cell_type": "code",
   "execution_count": null,
   "id": "b28cd62c",
   "metadata": {},
   "outputs": [],
   "source": []
  },
  {
   "cell_type": "code",
   "execution_count": null,
   "id": "570dd402",
   "metadata": {},
   "outputs": [],
   "source": []
  }
 ],
 "metadata": {
  "kernelspec": {
   "display_name": "Python 3.9.7 64-bit ('base': conda)",
   "language": "python",
   "name": "python397jvsc74a57bd040d3a090f54c6569ab1632332b64b2c03c39dcf918b08424e98f38b5ae0af88f"
  },
  "language_info": {
   "codemirror_mode": {
    "name": "ipython",
    "version": 3
   },
   "file_extension": ".py",
   "mimetype": "text/x-python",
   "name": "python",
   "nbconvert_exporter": "python",
   "pygments_lexer": "ipython3",
   "version": "3.9.7"
  }
 },
 "nbformat": 4,
 "nbformat_minor": 5
}
