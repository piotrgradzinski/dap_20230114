{
 "cells": [
  {
   "cell_type": "markdown",
   "id": "b6229641",
   "metadata": {},
   "source": [
    "# Exercise 2\n",
    "\n",
    "Read the content of the `dates.txt` file and change the date format from: `YYYY-MM-DD` to `DD.MM.YYYY`.\n",
    "\n",
    "For example we want to change `1914-10-23` into `23.10.1914`.\n",
    "\n",
    "What we will need?\n",
    "- open the file using `with`\n",
    "- read the whole content of the file with `.read()`\n",
    "- using `re.sub()` "
   ]
  }
 ],
 "metadata": {
  "kernelspec": {
   "display_name": "Python 3.9.7 64-bit ('base': conda)",
   "language": "python",
   "name": "python397jvsc74a57bd040d3a090f54c6569ab1632332b64b2c03c39dcf918b08424e98f38b5ae0af88f"
  },
  "language_info": {
   "codemirror_mode": {
    "name": "ipython",
    "version": 3
   },
   "file_extension": ".py",
   "mimetype": "text/x-python",
   "name": "python",
   "nbconvert_exporter": "python",
   "pygments_lexer": "ipython3",
   "version": "3.9.7"
  }
 },
 "nbformat": 4,
 "nbformat_minor": 5
}
