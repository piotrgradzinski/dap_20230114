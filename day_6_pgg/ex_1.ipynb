{
 "cells": [
  {
   "cell_type": "markdown",
   "id": "b6633f44",
   "metadata": {},
   "source": [
    "# Exercise 1\n",
    "\n",
    "Write a programme that will read the log file with users activity in the system.\n",
    "Display the information of how much time user spent in the system as the sum of \n",
    "numbers read from the file.\n",
    "\n",
    "Time in the system:\n",
    "- user-1: 92 s\n",
    "- user-2: 51 s\n",
    "- user-3: 20 s"
   ]
  },
  {
   "cell_type": "code",
   "execution_count": 7,
   "id": "7217ab0e",
   "metadata": {},
   "outputs": [
    {
     "name": "stdout",
     "output_type": "stream",
     "text": [
      "user-5 - 26065 s\n",
      "user-4 - 46198 s\n",
      "user-10 - 37595 s\n",
      "user-3 - 9301 s\n",
      "user-9 - 40589 s\n",
      "user-1 - 44501 s\n",
      "user-7 - 35360 s\n",
      "user-6 - 27717 s\n",
      "user-8 - 5731 s\n",
      "user-2 - 27958 s\n"
     ]
    }
   ],
   "source": [
    "total_time = {}\n",
    "\n",
    "with open('logs_simple.txt', 'r', encoding='utf-8') as file_handle:\n",
    "    for line in file_handle:\n",
    "        user_name, time_spent = line.rstrip().split(';')\n",
    "        if user_name not in total_time:\n",
    "            total_time[user_name] = 0\n",
    "        \n",
    "        total_time[user_name] += int(time_spent)\n",
    "\n",
    "for user_name, time_spent in total_time.items():\n",
    "    print(f'{user_name} - {time_spent} s')"
   ]
  },
  {
   "cell_type": "markdown",
   "id": "697e84cd",
   "metadata": {},
   "source": [
    "The problem we have is that the output is not sorted by username. It doesn't look good...\n",
    "\n",
    "First attempt I can try to sort this by keys of the dictionary..."
   ]
  },
  {
   "cell_type": "code",
   "execution_count": 11,
   "id": "3345c033",
   "metadata": {},
   "outputs": [
    {
     "data": {
      "text/plain": [
       "dict_keys(['user-5', 'user-4', 'user-10', 'user-3', 'user-9', 'user-1', 'user-7', 'user-6', 'user-8', 'user-2'])"
      ]
     },
     "execution_count": 11,
     "metadata": {},
     "output_type": "execute_result"
    }
   ],
   "source": [
    "total_time.keys()"
   ]
  },
  {
   "cell_type": "code",
   "execution_count": 13,
   "id": "8a80cff0",
   "metadata": {},
   "outputs": [
    {
     "data": {
      "text/plain": [
       "['user-1',\n",
       " 'user-10',\n",
       " 'user-2',\n",
       " 'user-3',\n",
       " 'user-4',\n",
       " 'user-5',\n",
       " 'user-6',\n",
       " 'user-7',\n",
       " 'user-8',\n",
       " 'user-9']"
      ]
     },
     "execution_count": 13,
     "metadata": {},
     "output_type": "execute_result"
    }
   ],
   "source": [
    "sorted(total_time.keys())"
   ]
  },
  {
   "cell_type": "code",
   "execution_count": 16,
   "id": "3985c593",
   "metadata": {},
   "outputs": [
    {
     "name": "stdout",
     "output_type": "stream",
     "text": [
      "user-1 - 44501 s\n",
      "user-10 - 37595 s\n",
      "user-2 - 27958 s\n",
      "user-3 - 9301 s\n",
      "user-4 - 46198 s\n",
      "user-5 - 26065 s\n",
      "user-6 - 27717 s\n",
      "user-7 - 35360 s\n",
      "user-8 - 5731 s\n",
      "user-9 - 40589 s\n"
     ]
    }
   ],
   "source": [
    "for user_name in sorted(total_time.keys()):\n",
    "    print(f\"{user_name} - {total_time[user_name]} s\")"
   ]
  },
  {
   "cell_type": "markdown",
   "id": "048178ac",
   "metadata": {},
   "source": [
    "The approach above is better but still `user-10` is not sorted properly due to the fact the sorting of strings does not take numbers into consideration, only characters.\n",
    "\n",
    "To solve properly we can use an external library that will do the work [natsort](https://pypi.org/project/natsort/).\n",
    "\n",
    "How we can install this library via Jupyter Notebooks to have it available within our Anaconda environment?"
   ]
  },
  {
   "cell_type": "code",
   "execution_count": 18,
   "id": "1f8e0f65",
   "metadata": {},
   "outputs": [
    {
     "name": "stdout",
     "output_type": "stream",
     "text": [
      "Requirement already satisfied: natsort in /opt/anaconda3/lib/python3.9/site-packages (8.2.0)\r\n"
     ]
    }
   ],
   "source": [
    "!pip install natsort"
   ]
  },
  {
   "cell_type": "code",
   "execution_count": 20,
   "id": "8eba99da",
   "metadata": {},
   "outputs": [],
   "source": [
    "from natsort import natsorted"
   ]
  },
  {
   "cell_type": "code",
   "execution_count": 22,
   "id": "70f114d3",
   "metadata": {},
   "outputs": [
    {
     "data": {
      "text/plain": [
       "['user-1',\n",
       " 'user-2',\n",
       " 'user-3',\n",
       " 'user-4',\n",
       " 'user-5',\n",
       " 'user-6',\n",
       " 'user-7',\n",
       " 'user-8',\n",
       " 'user-9',\n",
       " 'user-10']"
      ]
     },
     "execution_count": 22,
     "metadata": {},
     "output_type": "execute_result"
    }
   ],
   "source": [
    "natsorted(total_time.keys())"
   ]
  },
  {
   "cell_type": "code",
   "execution_count": 23,
   "id": "15717358",
   "metadata": {},
   "outputs": [
    {
     "name": "stdout",
     "output_type": "stream",
     "text": [
      "user-1 - 44501 s\n",
      "user-2 - 27958 s\n",
      "user-3 - 9301 s\n",
      "user-4 - 46198 s\n",
      "user-5 - 26065 s\n",
      "user-6 - 27717 s\n",
      "user-7 - 35360 s\n",
      "user-8 - 5731 s\n",
      "user-9 - 40589 s\n",
      "user-10 - 37595 s\n"
     ]
    }
   ],
   "source": [
    "for user_name in natsorted(total_time.keys()):\n",
    "    print(f\"{user_name} - {total_time[user_name]} s\")"
   ]
  }
 ],
 "metadata": {
  "kernelspec": {
   "display_name": "Python 3.9.7 64-bit ('base': conda)",
   "language": "python",
   "name": "python397jvsc74a57bd040d3a090f54c6569ab1632332b64b2c03c39dcf918b08424e98f38b5ae0af88f"
  },
  "language_info": {
   "codemirror_mode": {
    "name": "ipython",
    "version": 3
   },
   "file_extension": ".py",
   "mimetype": "text/x-python",
   "name": "python",
   "nbconvert_exporter": "python",
   "pygments_lexer": "ipython3",
   "version": "3.9.7"
  }
 },
 "nbformat": 4,
 "nbformat_minor": 5
}
