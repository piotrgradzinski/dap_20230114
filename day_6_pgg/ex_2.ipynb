{
 "cells": [
  {
   "cell_type": "markdown",
   "id": "0554edb5",
   "metadata": {},
   "source": [
    "# Exercise 2\n",
    "\n",
    "Read the content of the `dates.txt` file and change the date format from: `YYYY-MM-DD` to `DD.MM.YYYY`.\n",
    "\n",
    "For example we want to change `1914-10-23` into `23.10.1914`.\n",
    "\n",
    "What we will need?\n",
    "- open the file using `with`\n",
    "- read the whole content of the file with `.read()`\n",
    "- using `re.sub()` function replace the dates to a proper format"
   ]
  },
  {
   "cell_type": "code",
   "execution_count": 1,
   "id": "14c94ad4",
   "metadata": {},
   "outputs": [],
   "source": [
    "import re"
   ]
  },
  {
   "cell_type": "code",
   "execution_count": 7,
   "id": "96dc244c",
   "metadata": {},
   "outputs": [
    {
     "name": "stdout",
     "output_type": "stream",
     "text": [
      "Pierwszą bitwą na terenie *Belgii* było oblężenie Liege w dniach 1914-10-05 - 1914-10-09. Po upadku Liege większość sił belgijskich wykonała odwrót w kierunku Antwerpii i Namuru. *Wojska niemieckie* w swoim marszu na teren Francji ominęły armię belgijską, która jednak stanowiła teraz poważne zagrożenie dla ich skrzydła, z którego to powodu miasto Namur było oblegane przez Niemców od 1914-10-20 do 1914-10-23.\n",
      "Pierwszą bitwą na terenie *Belgii* było oblężenie Liege w dniach 05.10.1914 - 09.10.1914. Po upadku Liege większość sił belgijskich wykonała odwrót w kierunku Antwerpii i Namuru. *Wojska niemieckie* w swoim marszu na teren Francji ominęły armię belgijską, która jednak stanowiła teraz poważne zagrożenie dla ich skrzydła, z którego to powodu miasto Namur było oblegane przez Niemców od 20.10.1914 do 23.10.1914.\n"
     ]
    }
   ],
   "source": [
    "with open('dates.txt', 'r', encoding='utf-8') as file_handle:\n",
    "    data = file_handle.read()\n",
    "    print(data)\n",
    "    new_data = re.sub(r'(\\d{4})-(\\d{2})-(\\d{2})', r'\\3.\\2.\\1', data)\n",
    "    print(new_data)"
   ]
  },
  {
   "cell_type": "code",
   "execution_count": null,
   "id": "27dba244",
   "metadata": {},
   "outputs": [],
   "source": []
  }
 ],
 "metadata": {
  "kernelspec": {
   "display_name": "Python 3.9.7 64-bit ('base': conda)",
   "language": "python",
   "name": "python397jvsc74a57bd040d3a090f54c6569ab1632332b64b2c03c39dcf918b08424e98f38b5ae0af88f"
  },
  "language_info": {
   "codemirror_mode": {
    "name": "ipython",
    "version": 3
   },
   "file_extension": ".py",
   "mimetype": "text/x-python",
   "name": "python",
   "nbconvert_exporter": "python",
   "pygments_lexer": "ipython3",
   "version": "3.9.7"
  }
 },
 "nbformat": 4,
 "nbformat_minor": 5
}
