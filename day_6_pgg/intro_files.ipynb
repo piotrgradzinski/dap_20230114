{
 "cells": [
  {
   "cell_type": "markdown",
   "id": "a1184ecf",
   "metadata": {},
   "source": [
    "## Handling files\n",
    "\n",
    "- open the file in proper mode and the we obtain a handle to this file\n",
    "- we do all needed operations like reading, writting, appending, etc.\n",
    "- we have to close the handle to file - wecan use compaund statement so the file handle will be closed for us, we don't have to do it manually"
   ]
  },
  {
   "cell_type": "code",
   "execution_count": null,
   "id": "ac0a0449",
   "metadata": {},
   "outputs": [],
   "source": [
    "file_handle = open('test.txt', 'w')\n",
    "file_"
   ]
  }
 ],
 "metadata": {
  "kernelspec": {
   "display_name": "Python 3.9.7 64-bit ('base': conda)",
   "language": "python",
   "name": "python397jvsc74a57bd040d3a090f54c6569ab1632332b64b2c03c39dcf918b08424e98f38b5ae0af88f"
  },
  "language_info": {
   "codemirror_mode": {
    "name": "ipython",
    "version": 3
   },
   "file_extension": ".py",
   "mimetype": "text/x-python",
   "name": "python",
   "nbconvert_exporter": "python",
   "pygments_lexer": "ipython3",
   "version": "3.9.7"
  }
 },
 "nbformat": 4,
 "nbformat_minor": 5
}
