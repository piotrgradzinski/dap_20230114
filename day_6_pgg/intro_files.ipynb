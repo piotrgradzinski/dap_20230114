{
 "cells": [
  {
   "cell_type": "markdown",
   "id": "989767f5",
   "metadata": {},
   "source": [
    "## Handling files\n",
    "\n",
    "- open the file in proper mode and the we obtain a handle to this file\n",
    "- we do all needed operations like reading, writting, appending, etc.\n",
    "- we have to close the handle to file - we can use compound statement so the file handle will be closed for us, we don't have to do it manually\n",
    "\n",
    "[Python docs on files](https://docs.python.org/3/tutorial/inputoutput.html#reading-and-writing-files)\n",
    "\n",
    "[Summary of available modes combination](https://stackoverflow.com/questions/16208206/confused-by-python-file-mode-w/16212401#16212401)\n"
   ]
  },
  {
   "cell_type": "code",
   "execution_count": 2,
   "id": "f65321b1",
   "metadata": {},
   "outputs": [],
   "source": [
    "file_handle = open('test.txt', 'w')   # an existing file with the same name will be erased\n",
    "file_handle.write('To be or not to be.\\nHello world!')\n",
    "file_handle.close()"
   ]
  },
  {
   "cell_type": "code",
   "execution_count": 5,
   "id": "b2c58c8f",
   "metadata": {},
   "outputs": [
    {
     "name": "stdout",
     "output_type": "stream",
     "text": [
      "['To be or not to be.\\n', 'Hello world!']\n"
     ]
    }
   ],
   "source": [
    "file_handle = open('test.txt', 'r')\n",
    "file_content = file_handle.readlines()  # a list with lines from the file\n",
    "print(file_content)\n",
    "file_handle.close()"
   ]
  },
  {
   "cell_type": "code",
   "execution_count": 9,
   "id": "1773d8a5",
   "metadata": {},
   "outputs": [
    {
     "name": "stdout",
     "output_type": "stream",
     "text": [
      "To be or not to be.\n",
      "Hello world!\n"
     ]
    }
   ],
   "source": [
    "file_handle = open('test.txt', 'r', encoding='utf-8')\n",
    "file_content = file_handle.read()  # we read all content of the file as string and putting to a variable\n",
    "print(file_content)\n",
    "file_handle.close()"
   ]
  },
  {
   "cell_type": "markdown",
   "id": "f31189cc",
   "metadata": {},
   "source": [
    "When using `with` compound statement we don't have to close the file handle, because once we leave the block of code this will be done automatically by the compound statement itself."
   ]
  },
  {
   "cell_type": "code",
   "execution_count": 12,
   "id": "bb058bf1",
   "metadata": {},
   "outputs": [
    {
     "name": "stdout",
     "output_type": "stream",
     "text": [
      "To be or not to be.\n",
      "Hello world!\n"
     ]
    }
   ],
   "source": [
    "with open('test.txt', 'r', encoding='utf-8') as file_handle:\n",
    "    file_content = file_handle.read()\n",
    "    print(file_content)\n",
    "\n",
    "# file_content = file_handle.read()  # Ouside of the with statement the file is closed: ValueError: I/O operation on closed file."
   ]
  },
  {
   "cell_type": "code",
   "execution_count": null,
   "id": "d825c0d0",
   "metadata": {},
   "outputs": [],
   "source": []
  }
 ],
 "metadata": {
  "kernelspec": {
   "display_name": "Python 3.9.7 64-bit ('base': conda)",
   "language": "python",
   "name": "python397jvsc74a57bd040d3a090f54c6569ab1632332b64b2c03c39dcf918b08424e98f38b5ae0af88f"
  },
  "language_info": {
   "codemirror_mode": {
    "name": "ipython",
    "version": 3
   },
   "file_extension": ".py",
   "mimetype": "text/x-python",
   "name": "python",
   "nbconvert_exporter": "python",
   "pygments_lexer": "ipython3",
   "version": "3.9.7"
  }
 },
 "nbformat": 4,
 "nbformat_minor": 5
}
