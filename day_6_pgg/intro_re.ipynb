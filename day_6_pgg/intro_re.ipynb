{
 "cells": [
  {
   "cell_type": "markdown",
   "id": "340f6a73",
   "metadata": {},
   "source": [
    "# Regular expressions in python\n"
   ]
  },
  {
   "cell_type": "code",
   "execution_count": 2,
   "id": "4902753b",
   "metadata": {},
   "outputs": [],
   "source": [
    "import re"
   ]
  },
  {
   "cell_type": "code",
   "execution_count": 6,
   "id": "910f8bd2",
   "metadata": {},
   "outputs": [
    {
     "data": {
      "text/plain": [
       "['5', '10', '177', '3', '10', '116', '4', '5', '134']"
      ]
     },
     "execution_count": 6,
     "metadata": {},
     "output_type": "execute_result"
    }
   ],
   "source": [
    "data = \"\"\"5'10 [177]\n",
    "3'10 [116]\n",
    "4'5 [134]\"\"\"\n",
    "\n",
    "results = re.findall(r'\\d+', data)\n",
    "results"
   ]
  },
  {
   "cell_type": "code",
   "execution_count": 9,
   "id": "8a5065a6",
   "metadata": {},
   "outputs": [
    {
     "data": {
      "text/plain": [
       "[(\"5'10 [177]\", '177'), (\"3'10 [116]\", '116'), (\"4'5 [134]\", '134')]"
      ]
     },
     "execution_count": 9,
     "metadata": {},
     "output_type": "execute_result"
    }
   ],
   "source": [
    "results = re.findall(r'(.* \\[(\\d+)\\])', data)\n",
    "results"
   ]
  },
  {
   "cell_type": "code",
   "execution_count": 11,
   "id": "deb6cc96",
   "metadata": {},
   "outputs": [
    {
     "data": {
      "text/plain": [
       "'177\\n116\\n134'"
      ]
     },
     "execution_count": 11,
     "metadata": {},
     "output_type": "execute_result"
    }
   ],
   "source": [
    "# find & replace with regular expressions\n",
    "new_data = re.sub(r'(.* \\[(\\d+)\\])', r'\\2', data)\n",
    "new_data"
   ]
  }
 ],
 "metadata": {
  "kernelspec": {
   "display_name": "Python 3.9.7 64-bit ('base': conda)",
   "language": "python",
   "name": "python397jvsc74a57bd040d3a090f54c6569ab1632332b64b2c03c39dcf918b08424e98f38b5ae0af88f"
  },
  "language_info": {
   "codemirror_mode": {
    "name": "ipython",
    "version": 3
   },
   "file_extension": ".py",
   "mimetype": "text/x-python",
   "name": "python",
   "nbconvert_exporter": "python",
   "pygments_lexer": "ipython3",
   "version": "3.9.7"
  }
 },
 "nbformat": 4,
 "nbformat_minor": 5
}
