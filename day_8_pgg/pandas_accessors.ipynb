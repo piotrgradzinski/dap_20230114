{
 "cells": [
  {
   "cell_type": "markdown",
   "id": "09ef7ccd",
   "metadata": {},
   "source": [
    "# Pandas accessors\n",
    "\n",
    "- https://towardsdatascience.com/pandas-dtype-specific-operations-accessors-c749bafb30a4\n",
    "- [str accessor docs](https://pandas.pydata.org/docs/reference/series.html#api-series-str)\n",
    "- [dt accessor docs](https://pandas.pydata.org/docs/reference/series.html#api-series-dt)\n",
    "\n",
    "Within Pandas we have several types of accessors and the two most common are for: strings (`str`) and datetime (`dt`). They will allow us to work on particular data type and execute several operations dedicated to this data type, like making all letters uppercase in a string. "
   ]
  },
  {
   "cell_type": "code",
   "execution_count": 1,
   "id": "df82a079",
   "metadata": {},
   "outputs": [],
   "source": [
    "import pandas as pd"
   ]
  },
  {
   "cell_type": "code",
   "execution_count": 2,
   "id": "393cd5c7",
   "metadata": {},
   "outputs": [
    {
     "data": {
      "text/html": [
       "<div>\n",
       "<style scoped>\n",
       "    .dataframe tbody tr th:only-of-type {\n",
       "        vertical-align: middle;\n",
       "    }\n",
       "\n",
       "    .dataframe tbody tr th {\n",
       "        vertical-align: top;\n",
       "    }\n",
       "\n",
       "    .dataframe thead th {\n",
       "        text-align: right;\n",
       "    }\n",
       "</style>\n",
       "<table border=\"1\" class=\"dataframe\">\n",
       "  <thead>\n",
       "    <tr style=\"text-align: right;\">\n",
       "      <th></th>\n",
       "      <th>first_name</th>\n",
       "      <th>last_name</th>\n",
       "      <th>job_title</th>\n",
       "      <th>salary</th>\n",
       "      <th>hire_date</th>\n",
       "      <th>department_name</th>\n",
       "      <th>address</th>\n",
       "      <th>postal_code</th>\n",
       "      <th>city</th>\n",
       "      <th>country</th>\n",
       "    </tr>\n",
       "    <tr>\n",
       "      <th>employee_id</th>\n",
       "      <th></th>\n",
       "      <th></th>\n",
       "      <th></th>\n",
       "      <th></th>\n",
       "      <th></th>\n",
       "      <th></th>\n",
       "      <th></th>\n",
       "      <th></th>\n",
       "      <th></th>\n",
       "      <th></th>\n",
       "    </tr>\n",
       "  </thead>\n",
       "  <tbody>\n",
       "    <tr>\n",
       "      <th>100</th>\n",
       "      <td>Steven</td>\n",
       "      <td>King</td>\n",
       "      <td>President</td>\n",
       "      <td>24000</td>\n",
       "      <td>1997-06-17</td>\n",
       "      <td>Executive</td>\n",
       "      <td>2004 Charade Rd</td>\n",
       "      <td>98199</td>\n",
       "      <td>Seattle</td>\n",
       "      <td>United States of America</td>\n",
       "    </tr>\n",
       "    <tr>\n",
       "      <th>101</th>\n",
       "      <td>Neena</td>\n",
       "      <td>Kochhar</td>\n",
       "      <td>Administration Vice President</td>\n",
       "      <td>17000</td>\n",
       "      <td>1999-09-21</td>\n",
       "      <td>Executive</td>\n",
       "      <td>2004 Charade Rd</td>\n",
       "      <td>98199</td>\n",
       "      <td>Seattle</td>\n",
       "      <td>United States of America</td>\n",
       "    </tr>\n",
       "    <tr>\n",
       "      <th>102</th>\n",
       "      <td>Lex</td>\n",
       "      <td>De Haan</td>\n",
       "      <td>Administration Vice President</td>\n",
       "      <td>17000</td>\n",
       "      <td>2003-01-13</td>\n",
       "      <td>Executive</td>\n",
       "      <td>2004 Charade Rd</td>\n",
       "      <td>98199</td>\n",
       "      <td>Seattle</td>\n",
       "      <td>United States of America</td>\n",
       "    </tr>\n",
       "    <tr>\n",
       "      <th>103</th>\n",
       "      <td>Alexander</td>\n",
       "      <td>Hunold</td>\n",
       "      <td>Programmer</td>\n",
       "      <td>9000</td>\n",
       "      <td>2000-01-03</td>\n",
       "      <td>IT</td>\n",
       "      <td>2014 Jabberwocky Rd</td>\n",
       "      <td>26192</td>\n",
       "      <td>Southlake</td>\n",
       "      <td>United States of America</td>\n",
       "    </tr>\n",
       "    <tr>\n",
       "      <th>104</th>\n",
       "      <td>Bruce</td>\n",
       "      <td>Ernst</td>\n",
       "      <td>Programmer</td>\n",
       "      <td>6000</td>\n",
       "      <td>2001-05-21</td>\n",
       "      <td>IT</td>\n",
       "      <td>2014 Jabberwocky Rd</td>\n",
       "      <td>26192</td>\n",
       "      <td>Southlake</td>\n",
       "      <td>United States of America</td>\n",
       "    </tr>\n",
       "    <tr>\n",
       "      <th>...</th>\n",
       "      <td>...</td>\n",
       "      <td>...</td>\n",
       "      <td>...</td>\n",
       "      <td>...</td>\n",
       "      <td>...</td>\n",
       "      <td>...</td>\n",
       "      <td>...</td>\n",
       "      <td>...</td>\n",
       "      <td>...</td>\n",
       "      <td>...</td>\n",
       "    </tr>\n",
       "    <tr>\n",
       "      <th>202</th>\n",
       "      <td>Pat</td>\n",
       "      <td>Fay</td>\n",
       "      <td>Marketing Representative</td>\n",
       "      <td>6000</td>\n",
       "      <td>2007-08-17</td>\n",
       "      <td>Marketing</td>\n",
       "      <td>147 Spadina Ave</td>\n",
       "      <td>M5V 2L7</td>\n",
       "      <td>Toronto</td>\n",
       "      <td>Canada</td>\n",
       "    </tr>\n",
       "    <tr>\n",
       "      <th>203</th>\n",
       "      <td>Susan</td>\n",
       "      <td>Mavris</td>\n",
       "      <td>Human Resources Representative</td>\n",
       "      <td>6500</td>\n",
       "      <td>2004-06-07</td>\n",
       "      <td>Human Resources</td>\n",
       "      <td>8204 Arthur St</td>\n",
       "      <td>NaN</td>\n",
       "      <td>London</td>\n",
       "      <td>United Kingdom</td>\n",
       "    </tr>\n",
       "    <tr>\n",
       "      <th>204</th>\n",
       "      <td>Hermann</td>\n",
       "      <td>Baer</td>\n",
       "      <td>Public Relations Representative</td>\n",
       "      <td>10000</td>\n",
       "      <td>2004-06-07</td>\n",
       "      <td>Public Relations</td>\n",
       "      <td>Schwanthalerstr. 7031</td>\n",
       "      <td>80925</td>\n",
       "      <td>Munich</td>\n",
       "      <td>Germany</td>\n",
       "    </tr>\n",
       "    <tr>\n",
       "      <th>205</th>\n",
       "      <td>Shelley</td>\n",
       "      <td>Higgins</td>\n",
       "      <td>Accounting Manager</td>\n",
       "      <td>12000</td>\n",
       "      <td>2004-06-07</td>\n",
       "      <td>Accounting</td>\n",
       "      <td>2004 Charade Rd</td>\n",
       "      <td>98199</td>\n",
       "      <td>Seattle</td>\n",
       "      <td>United States of America</td>\n",
       "    </tr>\n",
       "    <tr>\n",
       "      <th>206</th>\n",
       "      <td>William</td>\n",
       "      <td>Gietz</td>\n",
       "      <td>Public Accountant</td>\n",
       "      <td>8300</td>\n",
       "      <td>2004-06-07</td>\n",
       "      <td>Accounting</td>\n",
       "      <td>2004 Charade Rd</td>\n",
       "      <td>98199</td>\n",
       "      <td>Seattle</td>\n",
       "      <td>United States of America</td>\n",
       "    </tr>\n",
       "  </tbody>\n",
       "</table>\n",
       "<p>107 rows × 10 columns</p>\n",
       "</div>"
      ],
      "text/plain": [
       "            first_name last_name                        job_title  salary  \\\n",
       "employee_id                                                                 \n",
       "100             Steven      King                        President   24000   \n",
       "101              Neena   Kochhar    Administration Vice President   17000   \n",
       "102                Lex   De Haan    Administration Vice President   17000   \n",
       "103          Alexander    Hunold                       Programmer    9000   \n",
       "104              Bruce     Ernst                       Programmer    6000   \n",
       "...                ...       ...                              ...     ...   \n",
       "202                Pat       Fay         Marketing Representative    6000   \n",
       "203              Susan    Mavris   Human Resources Representative    6500   \n",
       "204            Hermann      Baer  Public Relations Representative   10000   \n",
       "205            Shelley   Higgins               Accounting Manager   12000   \n",
       "206            William     Gietz                Public Accountant    8300   \n",
       "\n",
       "             hire_date   department_name                address postal_code  \\\n",
       "employee_id                                                                   \n",
       "100         1997-06-17         Executive        2004 Charade Rd       98199   \n",
       "101         1999-09-21         Executive        2004 Charade Rd       98199   \n",
       "102         2003-01-13         Executive        2004 Charade Rd       98199   \n",
       "103         2000-01-03                IT    2014 Jabberwocky Rd       26192   \n",
       "104         2001-05-21                IT    2014 Jabberwocky Rd       26192   \n",
       "...                ...               ...                    ...         ...   \n",
       "202         2007-08-17         Marketing        147 Spadina Ave     M5V 2L7   \n",
       "203         2004-06-07   Human Resources         8204 Arthur St         NaN   \n",
       "204         2004-06-07  Public Relations  Schwanthalerstr. 7031       80925   \n",
       "205         2004-06-07        Accounting        2004 Charade Rd       98199   \n",
       "206         2004-06-07        Accounting        2004 Charade Rd       98199   \n",
       "\n",
       "                  city                   country  \n",
       "employee_id                                       \n",
       "100            Seattle  United States of America  \n",
       "101            Seattle  United States of America  \n",
       "102            Seattle  United States of America  \n",
       "103          Southlake  United States of America  \n",
       "104          Southlake  United States of America  \n",
       "...                ...                       ...  \n",
       "202            Toronto                    Canada  \n",
       "203             London            United Kingdom  \n",
       "204             Munich                   Germany  \n",
       "205            Seattle  United States of America  \n",
       "206            Seattle  United States of America  \n",
       "\n",
       "[107 rows x 10 columns]"
      ]
     },
     "execution_count": 2,
     "metadata": {},
     "output_type": "execute_result"
    }
   ],
   "source": [
    "url = 'https://raw.githubusercontent.com/piotrgradzinski/dap_20230114/main/day_6_pgg/emps.csv'\n",
    "emps = pd.read_csv(url, sep=';', encoding='utf-8', index_col='employee_id', parse_dates=['hire_date'])\n",
    "emps"
   ]
  },
  {
   "cell_type": "code",
   "execution_count": 4,
   "id": "95300c6d",
   "metadata": {},
   "outputs": [
    {
     "data": {
      "text/plain": [
       "first_name                 object\n",
       "last_name                  object\n",
       "job_title                  object\n",
       "salary                      int64\n",
       "hire_date          datetime64[ns]\n",
       "department_name            object\n",
       "address                    object\n",
       "postal_code                object\n",
       "city                       object\n",
       "country                    object\n",
       "dtype: object"
      ]
     },
     "execution_count": 4,
     "metadata": {},
     "output_type": "execute_result"
    }
   ],
   "source": [
    "emps.dtypes"
   ]
  },
  {
   "cell_type": "markdown",
   "id": "5e6857c3",
   "metadata": {},
   "source": [
    "## `str` accessor"
   ]
  },
  {
   "cell_type": "code",
   "execution_count": 6,
   "id": "d2cfa2d4",
   "metadata": {},
   "outputs": [
    {
     "data": {
      "text/plain": [
       "employee_id\n",
       "100       KING\n",
       "101    KOCHHAR\n",
       "102    DE HAAN\n",
       "103     HUNOLD\n",
       "104      ERNST\n",
       "        ...   \n",
       "202        FAY\n",
       "203     MAVRIS\n",
       "204       BAER\n",
       "205    HIGGINS\n",
       "206      GIETZ\n",
       "Name: last_name, Length: 107, dtype: object"
      ]
     },
     "execution_count": 6,
     "metadata": {},
     "output_type": "execute_result"
    }
   ],
   "source": [
    "emps.last_name.str.upper()"
   ]
  },
  {
   "cell_type": "code",
   "execution_count": 8,
   "id": "5a5f8ffb",
   "metadata": {},
   "outputs": [
    {
     "data": {
      "text/plain": [
       "employee_id\n",
       "100       king\n",
       "101    kochhar\n",
       "102    de haan\n",
       "103     hunold\n",
       "104      ernst\n",
       "        ...   \n",
       "202        fay\n",
       "203     mavris\n",
       "204       baer\n",
       "205    higgins\n",
       "206      gietz\n",
       "Name: last_name, Length: 107, dtype: object"
      ]
     },
     "execution_count": 8,
     "metadata": {},
     "output_type": "execute_result"
    }
   ],
   "source": [
    "emps.last_name.str.lower()"
   ]
  },
  {
   "cell_type": "markdown",
   "id": "1c523586",
   "metadata": {},
   "source": [
    "With `str` accessor we do have access to indexing operator we can use on strings."
   ]
  },
  {
   "cell_type": "code",
   "execution_count": 10,
   "id": "089e03b3",
   "metadata": {},
   "outputs": [
    {
     "data": {
      "text/plain": [
       "employee_id\n",
       "100    Kin\n",
       "101    Koc\n",
       "102    De \n",
       "103    Hun\n",
       "104    Ern\n",
       "      ... \n",
       "202    Fay\n",
       "203    Mav\n",
       "204    Bae\n",
       "205    Hig\n",
       "206    Gie\n",
       "Name: last_name, Length: 107, dtype: object"
      ]
     },
     "execution_count": 10,
     "metadata": {},
     "output_type": "execute_result"
    }
   ],
   "source": [
    "emps.last_name.str[0:3]"
   ]
  },
  {
   "cell_type": "code",
   "execution_count": 12,
   "id": "f1a501d7",
   "metadata": {},
   "outputs": [
    {
     "data": {
      "text/plain": [
       "employee_id\n",
       "100       Xing\n",
       "101    Xochhar\n",
       "102    De Haan\n",
       "103     Hunold\n",
       "104      Ernst\n",
       "        ...   \n",
       "202        Fay\n",
       "203     Mavris\n",
       "204       Baer\n",
       "205    Higgins\n",
       "206      Gietz\n",
       "Name: last_name, Length: 107, dtype: object"
      ]
     },
     "execution_count": 12,
     "metadata": {},
     "output_type": "execute_result"
    }
   ],
   "source": [
    "emps.last_name.str.replace('K', 'X')"
   ]
  },
  {
   "cell_type": "code",
   "execution_count": 16,
   "id": "ba7a446c",
   "metadata": {},
   "outputs": [
    {
     "data": {
      "text/plain": [
       "employee_id\n",
       "100     True\n",
       "101    False\n",
       "102    False\n",
       "103    False\n",
       "104    False\n",
       "       ...  \n",
       "202    False\n",
       "203    False\n",
       "204    False\n",
       "205     True\n",
       "206    False\n",
       "Name: last_name, Length: 107, dtype: bool"
      ]
     },
     "execution_count": 16,
     "metadata": {},
     "output_type": "execute_result"
    }
   ],
   "source": [
    "# https://pandas.pydata.org/docs/reference/api/pandas.Series.str.match.html\n",
    "# we can use regular expressions\n",
    "emps.last_name.str.match('.*in.*')"
   ]
  },
  {
   "cell_type": "markdown",
   "id": "55efe85c",
   "metadata": {},
   "source": [
    "## `dt` accessor"
   ]
  },
  {
   "cell_type": "code",
   "execution_count": 18,
   "id": "683c8081",
   "metadata": {},
   "outputs": [
    {
     "data": {
      "text/plain": [
       "employee_id\n",
       "100    1997\n",
       "101    1999\n",
       "102    2003\n",
       "103    2000\n",
       "104    2001\n",
       "       ... \n",
       "202    2007\n",
       "203    2004\n",
       "204    2004\n",
       "205    2004\n",
       "206    2004\n",
       "Name: hire_date, Length: 107, dtype: int64"
      ]
     },
     "execution_count": 18,
     "metadata": {},
     "output_type": "execute_result"
    }
   ],
   "source": [
    "emps.hire_date.dt.year"
   ]
  },
  {
   "cell_type": "code",
   "execution_count": 23,
   "id": "32e5ea1b",
   "metadata": {},
   "outputs": [
    {
     "data": {
      "text/plain": [
       "employee_id\n",
       "100    False\n",
       "101    False\n",
       "102    False\n",
       "103    False\n",
       "104    False\n",
       "       ...  \n",
       "202    False\n",
       "203    False\n",
       "204    False\n",
       "205    False\n",
       "206    False\n",
       "Name: hire_date, Length: 107, dtype: bool"
      ]
     },
     "execution_count": 23,
     "metadata": {},
     "output_type": "execute_result"
    }
   ],
   "source": [
    "emps.hire_date.dt.is_month_end"
   ]
  },
  {
   "cell_type": "code",
   "execution_count": 25,
   "id": "cc345d18",
   "metadata": {},
   "outputs": [
    {
     "data": {
      "text/html": [
       "<div>\n",
       "<style scoped>\n",
       "    .dataframe tbody tr th:only-of-type {\n",
       "        vertical-align: middle;\n",
       "    }\n",
       "\n",
       "    .dataframe tbody tr th {\n",
       "        vertical-align: top;\n",
       "    }\n",
       "\n",
       "    .dataframe thead th {\n",
       "        text-align: right;\n",
       "    }\n",
       "</style>\n",
       "<table border=\"1\" class=\"dataframe\">\n",
       "  <thead>\n",
       "    <tr style=\"text-align: right;\">\n",
       "      <th></th>\n",
       "      <th>first_name</th>\n",
       "      <th>last_name</th>\n",
       "      <th>job_title</th>\n",
       "      <th>salary</th>\n",
       "      <th>hire_date</th>\n",
       "      <th>department_name</th>\n",
       "      <th>address</th>\n",
       "      <th>postal_code</th>\n",
       "      <th>city</th>\n",
       "      <th>country</th>\n",
       "    </tr>\n",
       "    <tr>\n",
       "      <th>employee_id</th>\n",
       "      <th></th>\n",
       "      <th></th>\n",
       "      <th></th>\n",
       "      <th></th>\n",
       "      <th></th>\n",
       "      <th></th>\n",
       "      <th></th>\n",
       "      <th></th>\n",
       "      <th></th>\n",
       "      <th></th>\n",
       "    </tr>\n",
       "  </thead>\n",
       "  <tbody>\n",
       "    <tr>\n",
       "      <th>111</th>\n",
       "      <td>Ismael</td>\n",
       "      <td>Sciarra</td>\n",
       "      <td>Accountant</td>\n",
       "      <td>7700</td>\n",
       "      <td>2007-09-30</td>\n",
       "      <td>Finance</td>\n",
       "      <td>2004 Charade Rd</td>\n",
       "      <td>98199</td>\n",
       "      <td>Seattle</td>\n",
       "      <td>United States of America</td>\n",
       "    </tr>\n",
       "  </tbody>\n",
       "</table>\n",
       "</div>"
      ],
      "text/plain": [
       "            first_name last_name   job_title  salary  hire_date  \\\n",
       "employee_id                                                       \n",
       "111             Ismael   Sciarra  Accountant    7700 2007-09-30   \n",
       "\n",
       "            department_name          address postal_code     city  \\\n",
       "employee_id                                                         \n",
       "111                 Finance  2004 Charade Rd       98199  Seattle   \n",
       "\n",
       "                              country  \n",
       "employee_id                            \n",
       "111          United States of America  "
      ]
     },
     "execution_count": 25,
     "metadata": {},
     "output_type": "execute_result"
    }
   ],
   "source": [
    "emps[emps.hire_date.dt.is_month_end]"
   ]
  },
  {
   "cell_type": "code",
   "execution_count": 27,
   "id": "2b4b1c93",
   "metadata": {},
   "outputs": [
    {
     "data": {
      "text/html": [
       "<div>\n",
       "<style scoped>\n",
       "    .dataframe tbody tr th:only-of-type {\n",
       "        vertical-align: middle;\n",
       "    }\n",
       "\n",
       "    .dataframe tbody tr th {\n",
       "        vertical-align: top;\n",
       "    }\n",
       "\n",
       "    .dataframe thead th {\n",
       "        text-align: right;\n",
       "    }\n",
       "</style>\n",
       "<table border=\"1\" class=\"dataframe\">\n",
       "  <thead>\n",
       "    <tr style=\"text-align: right;\">\n",
       "      <th></th>\n",
       "      <th>first_name</th>\n",
       "      <th>last_name</th>\n",
       "      <th>job_title</th>\n",
       "      <th>salary</th>\n",
       "      <th>hire_date</th>\n",
       "      <th>department_name</th>\n",
       "      <th>address</th>\n",
       "      <th>postal_code</th>\n",
       "      <th>city</th>\n",
       "      <th>country</th>\n",
       "    </tr>\n",
       "    <tr>\n",
       "      <th>employee_id</th>\n",
       "      <th></th>\n",
       "      <th></th>\n",
       "      <th></th>\n",
       "      <th></th>\n",
       "      <th></th>\n",
       "      <th></th>\n",
       "      <th></th>\n",
       "      <th></th>\n",
       "      <th></th>\n",
       "      <th></th>\n",
       "    </tr>\n",
       "  </thead>\n",
       "  <tbody>\n",
       "    <tr>\n",
       "      <th>122</th>\n",
       "      <td>Payam</td>\n",
       "      <td>Kaufling</td>\n",
       "      <td>Stock Manager</td>\n",
       "      <td>7900</td>\n",
       "      <td>2005-05-01</td>\n",
       "      <td>Shipping</td>\n",
       "      <td>2011 Interiors Blvd</td>\n",
       "      <td>99236</td>\n",
       "      <td>South San Francisco</td>\n",
       "      <td>United States of America</td>\n",
       "    </tr>\n",
       "    <tr>\n",
       "      <th>145</th>\n",
       "      <td>John</td>\n",
       "      <td>Russell</td>\n",
       "      <td>Sales Manager</td>\n",
       "      <td>14000</td>\n",
       "      <td>2006-10-01</td>\n",
       "      <td>Sales</td>\n",
       "      <td>Magdalen Centre, The Oxford Science Park</td>\n",
       "      <td>OX9 9ZB</td>\n",
       "      <td>Oxford</td>\n",
       "      <td>United Kingdom</td>\n",
       "    </tr>\n",
       "    <tr>\n",
       "      <th>158</th>\n",
       "      <td>Allan</td>\n",
       "      <td>McEwen</td>\n",
       "      <td>Sales Representative</td>\n",
       "      <td>9000</td>\n",
       "      <td>2006-08-01</td>\n",
       "      <td>Sales</td>\n",
       "      <td>Magdalen Centre, The Oxford Science Park</td>\n",
       "      <td>OX9 9ZB</td>\n",
       "      <td>Oxford</td>\n",
       "      <td>United Kingdom</td>\n",
       "    </tr>\n",
       "    <tr>\n",
       "      <th>194</th>\n",
       "      <td>Samuel</td>\n",
       "      <td>McCain</td>\n",
       "      <td>Shipping Clerk</td>\n",
       "      <td>3200</td>\n",
       "      <td>2008-07-01</td>\n",
       "      <td>Shipping</td>\n",
       "      <td>2011 Interiors Blvd</td>\n",
       "      <td>99236</td>\n",
       "      <td>South San Francisco</td>\n",
       "      <td>United States of America</td>\n",
       "    </tr>\n",
       "  </tbody>\n",
       "</table>\n",
       "</div>"
      ],
      "text/plain": [
       "            first_name last_name             job_title  salary  hire_date  \\\n",
       "employee_id                                                                 \n",
       "122              Payam  Kaufling         Stock Manager    7900 2005-05-01   \n",
       "145               John   Russell         Sales Manager   14000 2006-10-01   \n",
       "158              Allan    McEwen  Sales Representative    9000 2006-08-01   \n",
       "194             Samuel    McCain        Shipping Clerk    3200 2008-07-01   \n",
       "\n",
       "            department_name                                   address  \\\n",
       "employee_id                                                             \n",
       "122                Shipping                       2011 Interiors Blvd   \n",
       "145                   Sales  Magdalen Centre, The Oxford Science Park   \n",
       "158                   Sales  Magdalen Centre, The Oxford Science Park   \n",
       "194                Shipping                       2011 Interiors Blvd   \n",
       "\n",
       "            postal_code                 city                   country  \n",
       "employee_id                                                             \n",
       "122               99236  South San Francisco  United States of America  \n",
       "145             OX9 9ZB               Oxford            United Kingdom  \n",
       "158             OX9 9ZB               Oxford            United Kingdom  \n",
       "194               99236  South San Francisco  United States of America  "
      ]
     },
     "execution_count": 27,
     "metadata": {},
     "output_type": "execute_result"
    }
   ],
   "source": [
    "emps[emps.hire_date.dt.is_month_start]"
   ]
  },
  {
   "cell_type": "code",
   "execution_count": 28,
   "id": "fffb0780",
   "metadata": {},
   "outputs": [
    {
     "data": {
      "text/plain": [
       "employee_id\n",
       "100    17.06.1997\n",
       "101    21.09.1999\n",
       "102    13.01.2003\n",
       "103    03.01.2000\n",
       "104    21.05.2001\n",
       "          ...    \n",
       "202    17.08.2007\n",
       "203    07.06.2004\n",
       "204    07.06.2004\n",
       "205    07.06.2004\n",
       "206    07.06.2004\n",
       "Name: hire_date, Length: 107, dtype: object"
      ]
     },
     "execution_count": 28,
     "metadata": {},
     "output_type": "execute_result"
    }
   ],
   "source": [
    "emps.hire_date.dt.strftime('%d.%m.%Y')"
   ]
  }
 ],
 "metadata": {
  "kernelspec": {
   "display_name": "Python 3.9.7 64-bit ('base': conda)",
   "language": "python",
   "name": "python397jvsc74a57bd040d3a090f54c6569ab1632332b64b2c03c39dcf918b08424e98f38b5ae0af88f"
  },
  "language_info": {
   "codemirror_mode": {
    "name": "ipython",
    "version": 3
   },
   "file_extension": ".py",
   "mimetype": "text/x-python",
   "name": "python",
   "nbconvert_exporter": "python",
   "pygments_lexer": "ipython3",
   "version": "3.9.7"
  }
 },
 "nbformat": 4,
 "nbformat_minor": 5
}
