{
 "cells": [
  {
   "cell_type": "markdown",
   "id": "625ac1ce",
   "metadata": {},
   "source": [
    "# Dates\n",
    "\n",
    "- https://realpython.com/python-datetime/ \n",
    "- https://docs.python.org/3/library/datetime.html\n",
    "\n",
    "We have build-in support for dates and times in python but we have to import `datetime` package to be able to handle them."
   ]
  },
  {
   "cell_type": "code",
   "execution_count": 67,
   "id": "4e81227c",
   "metadata": {},
   "outputs": [],
   "source": [
    "import datetime"
   ]
  },
  {
   "cell_type": "code",
   "execution_count": 68,
   "id": "aae22e6c",
   "metadata": {},
   "outputs": [
    {
     "data": {
      "text/plain": [
       "(datetime.date(2023, 3, 5), datetime.date)"
      ]
     },
     "execution_count": 68,
     "metadata": {},
     "output_type": "execute_result"
    }
   ],
   "source": [
    "# creating dates\n",
    "my_date = datetime.date(year=2023, month=3, day=5)\n",
    "my_date, type(my_date)"
   ]
  },
  {
   "cell_type": "code",
   "execution_count": 69,
   "id": "a53986d8",
   "metadata": {},
   "outputs": [
    {
     "data": {
      "text/plain": [
       "datetime.date(2023, 3, 5)"
      ]
     },
     "execution_count": 69,
     "metadata": {},
     "output_type": "execute_result"
    }
   ],
   "source": [
    "my_date = datetime.date.today()\n",
    "my_date"
   ]
  },
  {
   "cell_type": "code",
   "execution_count": 70,
   "id": "11c6079f",
   "metadata": {},
   "outputs": [
    {
     "data": {
      "text/plain": [
       "datetime.time(8, 48, 20)"
      ]
     },
     "execution_count": 70,
     "metadata": {},
     "output_type": "execute_result"
    }
   ],
   "source": [
    "# creating times\n",
    "my_time = datetime.time(hour=8, minute=48, second=20)\n",
    "my_time"
   ]
  },
  {
   "cell_type": "code",
   "execution_count": 71,
   "id": "3b666592",
   "metadata": {},
   "outputs": [
    {
     "data": {
      "text/plain": [
       "datetime.datetime(2023, 3, 5, 8, 48, 20)"
      ]
     },
     "execution_count": 71,
     "metadata": {},
     "output_type": "execute_result"
    }
   ],
   "source": [
    "# creating datetime (so date with time)\n",
    "# datetime.datetime - first one is the name of the package (library), second one is the name of the class that stores information about date and time\n",
    "my_dt = datetime.datetime(year=2023, month=3, day=5, hour=8, minute=48, second=20)\n",
    "my_dt"
   ]
  },
  {
   "cell_type": "code",
   "execution_count": 72,
   "id": "a8eec69e",
   "metadata": {},
   "outputs": [
    {
     "data": {
      "text/plain": [
       "datetime.datetime(2023, 3, 5, 9, 1, 28, 906709)"
      ]
     },
     "execution_count": 72,
     "metadata": {},
     "output_type": "execute_result"
    }
   ],
   "source": [
    "my_dt = datetime.datetime.now()\n",
    "my_dt"
   ]
  },
  {
   "cell_type": "code",
   "execution_count": 73,
   "id": "e053b3a0",
   "metadata": {},
   "outputs": [
    {
     "data": {
      "text/plain": [
       "(2023, 3, 5, 9, 1, 28, 906709)"
      ]
     },
     "execution_count": 73,
     "metadata": {},
     "output_type": "execute_result"
    }
   ],
   "source": [
    "# we can access particular elements of the datetime object\n",
    "my_dt.year, my_dt.month, my_dt.day, my_dt.hour, my_dt.minute, my_dt.second, my_dt.microsecond"
   ]
  },
  {
   "cell_type": "code",
   "execution_count": 74,
   "id": "7b0a431f",
   "metadata": {},
   "outputs": [
    {
     "data": {
      "text/plain": [
       "6"
      ]
     },
     "execution_count": 74,
     "metadata": {},
     "output_type": "execute_result"
    }
   ],
   "source": [
    "my_dt.weekday()  # Monday - 0 -> Sunday - 6"
   ]
  },
  {
   "cell_type": "code",
   "execution_count": 75,
   "id": "e87b025a",
   "metadata": {},
   "outputs": [
    {
     "data": {
      "text/plain": [
       "7"
      ]
     },
     "execution_count": 75,
     "metadata": {},
     "output_type": "execute_result"
    }
   ],
   "source": [
    "my_dt.isoweekday()  # Monday - 1 -> Sunday - 7"
   ]
  },
  {
   "cell_type": "code",
   "execution_count": 76,
   "id": "cfb7cdda",
   "metadata": {},
   "outputs": [
    {
     "data": {
      "text/plain": [
       "datetime.IsoCalendarDate(year=2023, week=9, weekday=7)"
      ]
     },
     "execution_count": 76,
     "metadata": {},
     "output_type": "execute_result"
    }
   ],
   "source": [
    "my_dt.isocalendar()"
   ]
  },
  {
   "cell_type": "code",
   "execution_count": 77,
   "id": "6ad9adf4",
   "metadata": {},
   "outputs": [
    {
     "data": {
      "text/plain": [
       "(9, 7)"
      ]
     },
     "execution_count": 77,
     "metadata": {},
     "output_type": "execute_result"
    }
   ],
   "source": [
    "# week - number of the week of the year; weekday - day of the week (1-7)\n",
    "my_dt.isocalendar().week, my_dt.isocalendar().weekday"
   ]
  },
  {
   "cell_type": "markdown",
   "id": "b9a98144",
   "metadata": {},
   "source": [
    "## How we format our datetime?\n",
    "\n",
    "We want transform datetime python object into a string containg all the information about date and time\n",
    "in a format we want to have.\n",
    "\n",
    "`(datetime) -> (string)`\n",
    "\n",
    "We can use function `my_datetime.strftime(FORMAT)`. \n",
    "\n",
    "`strftime` -> `string from time`.\n",
    "\n",
    "[List of available tokens we can use in `strftime` and `strptime`](https://docs.python.org/3/library/datetime.html#strftime-strptime-behavior)"
   ]
  },
  {
   "cell_type": "code",
   "execution_count": 80,
   "id": "4d49ee84",
   "metadata": {},
   "outputs": [
    {
     "data": {
      "text/plain": [
       "'05.03.2023 09:01:28'"
      ]
     },
     "execution_count": 80,
     "metadata": {},
     "output_type": "execute_result"
    }
   ],
   "source": [
    "my_dt.strftime('%d.%m.%Y %H:%M:%S')"
   ]
  },
  {
   "cell_type": "code",
   "execution_count": 81,
   "id": "e4ab6db6",
   "metadata": {},
   "outputs": [
    {
     "data": {
      "text/plain": [
       "'03/05/2023 09:01:28'"
      ]
     },
     "execution_count": 81,
     "metadata": {},
     "output_type": "execute_result"
    }
   ],
   "source": [
    "my_dt.strftime('%m/%d/%Y %H:%M:%S')"
   ]
  },
  {
   "cell_type": "markdown",
   "id": "46486dcf",
   "metadata": {},
   "source": [
    "## Parsing date and time from different formats\n",
    "\n",
    "[`EPOCH`](https://en.wikipedia.org/wiki/Epoch_(computing)) - \"the beginning of time in our computer\" - based on the operating system. For Unix/Linux/Mac EPOCH = 01.01.1970. For Windows it's 01.01.1601.\n",
    "\n",
    "For conversion and testing we can use https://www.epochconverter.com/\n"
   ]
  },
  {
   "cell_type": "code",
   "execution_count": 82,
   "id": "bd9043ef",
   "metadata": {},
   "outputs": [
    {
     "data": {
      "text/plain": [
       "datetime.datetime(2023, 3, 5, 9, 12, 39)"
      ]
     },
     "execution_count": 82,
     "metadata": {},
     "output_type": "execute_result"
    }
   ],
   "source": [
    "my_dt = datetime.datetime.fromtimestamp(1678003959)\n",
    "my_dt"
   ]
  },
  {
   "cell_type": "code",
   "execution_count": null,
   "id": "93b18598",
   "metadata": {},
   "outputs": [],
   "source": []
  },
  {
   "cell_type": "code",
   "execution_count": null,
   "id": "145f28aa",
   "metadata": {},
   "outputs": [],
   "source": []
  },
  {
   "cell_type": "code",
   "execution_count": null,
   "id": "9d14184d",
   "metadata": {},
   "outputs": [],
   "source": []
  }
 ],
 "metadata": {
  "kernelspec": {
   "display_name": "Python 3.9.7 64-bit ('base': conda)",
   "language": "python",
   "name": "python397jvsc74a57bd040d3a090f54c6569ab1632332b64b2c03c39dcf918b08424e98f38b5ae0af88f"
  },
  "language_info": {
   "codemirror_mode": {
    "name": "ipython",
    "version": 3
   },
   "file_extension": ".py",
   "mimetype": "text/x-python",
   "name": "python",
   "nbconvert_exporter": "python",
   "pygments_lexer": "ipython3",
   "version": "3.9.7"
  }
 },
 "nbformat": 4,
 "nbformat_minor": 5
}
