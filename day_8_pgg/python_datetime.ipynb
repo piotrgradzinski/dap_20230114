{
 "cells": [
  {
   "cell_type": "markdown",
   "id": "a553181e",
   "metadata": {},
   "source": [
    "# Dates\n",
    "\n",
    "- https://realpython.com/python-datetime/ \n",
    "- https://docs.python.org/3/library/datetime.html\n",
    "\n",
    "We have build-in support for dates and times in python but we have to import `datetime` package to be able to handle them."
   ]
  },
  {
   "cell_type": "code",
   "execution_count": 67,
   "id": "8c4e34b2",
   "metadata": {},
   "outputs": [],
   "source": [
    "import datetime"
   ]
  },
  {
   "cell_type": "code",
   "execution_count": 68,
   "id": "81ce5d50",
   "metadata": {},
   "outputs": [
    {
     "data": {
      "text/plain": [
       "(datetime.date(2023, 3, 5), datetime.date)"
      ]
     },
     "execution_count": 68,
     "metadata": {},
     "output_type": "execute_result"
    }
   ],
   "source": [
    "# creating dates\n",
    "my_date = datetime.date(year=2023, month=3, day=5)\n",
    "my_date, type(my_date)"
   ]
  },
  {
   "cell_type": "code",
   "execution_count": 69,
   "id": "7c380e00",
   "metadata": {},
   "outputs": [
    {
     "data": {
      "text/plain": [
       "datetime.date(2023, 3, 5)"
      ]
     },
     "execution_count": 69,
     "metadata": {},
     "output_type": "execute_result"
    }
   ],
   "source": [
    "my_date = datetime.date.today()\n",
    "my_date"
   ]
  },
  {
   "cell_type": "code",
   "execution_count": 70,
   "id": "09bba2cd",
   "metadata": {},
   "outputs": [
    {
     "data": {
      "text/plain": [
       "datetime.time(8, 48, 20)"
      ]
     },
     "execution_count": 70,
     "metadata": {},
     "output_type": "execute_result"
    }
   ],
   "source": [
    "# creating times\n",
    "my_time = datetime.time(hour=8, minute=48, second=20)\n",
    "my_time"
   ]
  },
  {
   "cell_type": "code",
   "execution_count": 71,
   "id": "527e0b90",
   "metadata": {},
   "outputs": [
    {
     "data": {
      "text/plain": [
       "datetime.datetime(2023, 3, 5, 8, 48, 20)"
      ]
     },
     "execution_count": 71,
     "metadata": {},
     "output_type": "execute_result"
    }
   ],
   "source": [
    "# creating datetime (so date with time)\n",
    "# datetime.datetime - first one is the name of the package (library), second one is the name of the class that stores information about date and time\n",
    "my_dt = datetime.datetime(year=2023, month=3, day=5, hour=8, minute=48, second=20)\n",
    "my_dt"
   ]
  },
  {
   "cell_type": "code",
   "execution_count": 72,
   "id": "418aeaf6",
   "metadata": {},
   "outputs": [
    {
     "data": {
      "text/plain": [
       "datetime.datetime(2023, 3, 5, 9, 1, 28, 906709)"
      ]
     },
     "execution_count": 72,
     "metadata": {},
     "output_type": "execute_result"
    }
   ],
   "source": [
    "my_dt = datetime.datetime.now()\n",
    "my_dt"
   ]
  },
  {
   "cell_type": "code",
   "execution_count": 73,
   "id": "2d136fdd",
   "metadata": {},
   "outputs": [
    {
     "data": {
      "text/plain": [
       "(2023, 3, 5, 9, 1, 28, 906709)"
      ]
     },
     "execution_count": 73,
     "metadata": {},
     "output_type": "execute_result"
    }
   ],
   "source": [
    "# we can access particular elements of the datetime object\n",
    "my_dt.year, my_dt.month, my_dt.day, my_dt.hour, my_dt.minute, my_dt.second, my_dt.microsecond"
   ]
  },
  {
   "cell_type": "code",
   "execution_count": 74,
   "id": "73e1fe33",
   "metadata": {},
   "outputs": [
    {
     "data": {
      "text/plain": [
       "6"
      ]
     },
     "execution_count": 74,
     "metadata": {},
     "output_type": "execute_result"
    }
   ],
   "source": [
    "my_dt.weekday()  # Monday - 0 -> Sunday - 6"
   ]
  },
  {
   "cell_type": "code",
   "execution_count": 75,
   "id": "f2b472a4",
   "metadata": {},
   "outputs": [
    {
     "data": {
      "text/plain": [
       "7"
      ]
     },
     "execution_count": 75,
     "metadata": {},
     "output_type": "execute_result"
    }
   ],
   "source": [
    "my_dt.isoweekday()  # Monday - 1 -> Sunday - 7"
   ]
  },
  {
   "cell_type": "code",
   "execution_count": 76,
   "id": "35ced665",
   "metadata": {},
   "outputs": [
    {
     "data": {
      "text/plain": [
       "datetime.IsoCalendarDate(year=2023, week=9, weekday=7)"
      ]
     },
     "execution_count": 76,
     "metadata": {},
     "output_type": "execute_result"
    }
   ],
   "source": [
    "my_dt.isocalendar()"
   ]
  },
  {
   "cell_type": "code",
   "execution_count": 77,
   "id": "f34cfdd4",
   "metadata": {},
   "outputs": [
    {
     "data": {
      "text/plain": [
       "(9, 7)"
      ]
     },
     "execution_count": 77,
     "metadata": {},
     "output_type": "execute_result"
    }
   ],
   "source": [
    "# week - number of the week of the year; weekday - day of the week (1-7)\n",
    "my_dt.isocalendar().week, my_dt.isocalendar().weekday"
   ]
  },
  {
   "cell_type": "markdown",
   "id": "0792bb46",
   "metadata": {},
   "source": [
    "## How we format our datetime?\n",
    "\n",
    "We want transform datetime python object into a string containg all the information about date and time\n",
    "in a format we want to have.\n",
    "\n",
    "`(datetime) -> (string)`\n",
    "\n",
    "We can use function `my_datetime.strftime(FORMAT)`. \n",
    "\n",
    "`strftime` -> `string from time`.\n",
    "\n",
    "[List of available tokens we can use in `strftime` and `strptime`](https://docs.python.org/3/library/datetime.html#strftime-strptime-behavior)"
   ]
  },
  {
   "cell_type": "code",
   "execution_count": 80,
   "id": "fb0c06c9",
   "metadata": {},
   "outputs": [
    {
     "data": {
      "text/plain": [
       "'05.03.2023 09:01:28'"
      ]
     },
     "execution_count": 80,
     "metadata": {},
     "output_type": "execute_result"
    }
   ],
   "source": [
    "my_dt.strftime('%d.%m.%Y %H:%M:%S')"
   ]
  },
  {
   "cell_type": "code",
   "execution_count": 81,
   "id": "e1405e49",
   "metadata": {},
   "outputs": [
    {
     "data": {
      "text/plain": [
       "'03/05/2023 09:01:28'"
      ]
     },
     "execution_count": 81,
     "metadata": {},
     "output_type": "execute_result"
    }
   ],
   "source": [
    "my_dt.strftime('%m/%d/%Y %H:%M:%S')"
   ]
  },
  {
   "cell_type": "markdown",
   "id": "8ca77d69",
   "metadata": {},
   "source": [
    "## Parsing date and time from different formats\n",
    "\n",
    "[`EPOCH`](https://en.wikipedia.org/wiki/Epoch_(computing)) - \"the beginning of time in our computer\" - based on the operating system. For Unix/Linux/Mac EPOCH = 01.01.1970. For Windows it's 01.01.1601.\n",
    "\n",
    "For conversion and testing we can use https://www.epochconverter.com/\n"
   ]
  },
  {
   "cell_type": "code",
   "execution_count": 82,
   "id": "10c7b880",
   "metadata": {},
   "outputs": [
    {
     "data": {
      "text/plain": [
       "datetime.datetime(2023, 3, 5, 9, 12, 39)"
      ]
     },
     "execution_count": 82,
     "metadata": {},
     "output_type": "execute_result"
    }
   ],
   "source": [
    "my_dt = datetime.datetime.fromtimestamp(1678003959)  # from timestamp to datetime object\n",
    "my_dt"
   ]
  },
  {
   "cell_type": "code",
   "execution_count": 84,
   "id": "d48bedd5",
   "metadata": {},
   "outputs": [
    {
     "data": {
      "text/plain": [
       "1678003959.0"
      ]
     },
     "execution_count": 84,
     "metadata": {},
     "output_type": "execute_result"
    }
   ],
   "source": [
    "datetime.datetime.timestamp(my_dt)  # from datetime object to timestamp"
   ]
  },
  {
   "cell_type": "markdown",
   "id": "65a4a14c",
   "metadata": {},
   "source": [
    "[ISO 8601 format](https://en.wikipedia.org/wiki/ISO_8601) is a standardized way of representing date and time using strings. "
   ]
  },
  {
   "cell_type": "code",
   "execution_count": 89,
   "id": "fc698c48",
   "metadata": {},
   "outputs": [
    {
     "data": {
      "text/plain": [
       "datetime.datetime(2023, 3, 5, 7, 36, 9)"
      ]
     },
     "execution_count": 89,
     "metadata": {},
     "output_type": "execute_result"
    }
   ],
   "source": [
    "my_dt = datetime.datetime.fromisoformat('2023-03-05T07:36:09')\n",
    "my_dt"
   ]
  },
  {
   "cell_type": "markdown",
   "id": "62700956",
   "metadata": {},
   "source": [
    "When we will be dealing with date and times in our data set we may encouter different formats. \n",
    "\n",
    "To have full control on how our information is transformed into datetime object we can use `strptime()` function (`string parse time`)."
   ]
  },
  {
   "cell_type": "code",
   "execution_count": 93,
   "id": "ba155518",
   "metadata": {},
   "outputs": [
    {
     "data": {
      "text/plain": [
       "datetime.datetime(2023, 3, 5, 9, 23, 15)"
      ]
     },
     "execution_count": 93,
     "metadata": {},
     "output_type": "execute_result"
    }
   ],
   "source": [
    "# we will get an exception if Python is not able to match string with provided format\n",
    "my_dt = datetime.datetime.strptime('05.03.2023 09:23:15', '%d.%m.%Y %H:%M:%S')\n",
    "my_dt"
   ]
  },
  {
   "cell_type": "markdown",
   "id": "325e77d1",
   "metadata": {},
   "source": [
    "There is an external library called `dateutil` that enriches dates handling and makes that process much simpler. \n",
    "\n",
    "We can install this lib from PyPI - https://pypi.org/project/python-dateutil/\n",
    "\n",
    "[dateutil documentation](https://dateutil.readthedocs.io/en/stable/index.html)"
   ]
  },
  {
   "cell_type": "code",
   "execution_count": 94,
   "id": "71f37fb0",
   "metadata": {},
   "outputs": [
    {
     "name": "stdout",
     "output_type": "stream",
     "text": [
      "Requirement already satisfied: python-dateutil in /opt/anaconda3/lib/python3.9/site-packages (2.8.2)\r\n",
      "Requirement already satisfied: six>=1.5 in /opt/anaconda3/lib/python3.9/site-packages (from python-dateutil) (1.16.0)\r\n"
     ]
    }
   ],
   "source": [
    "!pip install python-dateutil"
   ]
  },
  {
   "cell_type": "code",
   "execution_count": 95,
   "id": "5f0b7bc9",
   "metadata": {},
   "outputs": [],
   "source": [
    "import dateutil.parser"
   ]
  },
  {
   "cell_type": "code",
   "execution_count": 96,
   "id": "68fc5460",
   "metadata": {},
   "outputs": [
    {
     "data": {
      "text/plain": [
       "datetime.datetime(2023, 5, 3, 9, 23, 15)"
      ]
     },
     "execution_count": 96,
     "metadata": {},
     "output_type": "execute_result"
    }
   ],
   "source": [
    "my_dt = dateutil.parser.parse('05.03.2023 09:23:15')\n",
    "my_dt"
   ]
  },
  {
   "cell_type": "markdown",
   "id": "9cd81cea",
   "metadata": {},
   "source": [
    "We can work on two dates and add or substract them (`+` an `-` operators are implemented) and we will get delta - the difference between two dates."
   ]
  },
  {
   "cell_type": "code",
   "execution_count": 97,
   "id": "f0db8ae9",
   "metadata": {},
   "outputs": [
    {
     "data": {
      "text/plain": [
       "(datetime.datetime(2023, 3, 5, 9, 33, 11, 339192),\n",
       " datetime.datetime(2020, 6, 15, 15, 18, 33))"
      ]
     },
     "execution_count": 97,
     "metadata": {},
     "output_type": "execute_result"
    }
   ],
   "source": [
    "dt1 = datetime.datetime.now()\n",
    "dt2 = dateutil.parser.parse('2020-06-15T15:18:33')\n",
    "dt1, dt2"
   ]
  },
  {
   "cell_type": "code",
   "execution_count": 98,
   "id": "fdf516f9",
   "metadata": {},
   "outputs": [
    {
     "data": {
      "text/plain": [
       "datetime.timedelta(days=992, seconds=65678, microseconds=339192)"
      ]
     },
     "execution_count": 98,
     "metadata": {},
     "output_type": "execute_result"
    }
   ],
   "source": [
    "dt3 = dt1 - dt2\n",
    "dt3"
   ]
  },
  {
   "cell_type": "code",
   "execution_count": 99,
   "id": "11d2166b",
   "metadata": {},
   "outputs": [
    {
     "data": {
      "text/plain": [
       "(992, 65678)"
      ]
     },
     "execution_count": 99,
     "metadata": {},
     "output_type": "execute_result"
    }
   ],
   "source": [
    "dt3.days, dt3.seconds"
   ]
  },
  {
   "cell_type": "markdown",
   "id": "a355be59",
   "metadata": {},
   "source": [
    "With standard python approach we will have some issues with calculating number of year/months between two dates as only `days` are available. \n",
    "\n",
    "We have a solution for that - `dateutil` library and `relativedelta`."
   ]
  },
  {
   "cell_type": "code",
   "execution_count": 105,
   "id": "893bd454",
   "metadata": {},
   "outputs": [
    {
     "data": {
      "text/plain": [
       "relativedelta(years=+2, months=+8, days=+17, hours=+18, minutes=+14, seconds=+38, microseconds=+339192)"
      ]
     },
     "execution_count": 105,
     "metadata": {},
     "output_type": "execute_result"
    }
   ],
   "source": [
    "from dateutil.relativedelta import relativedelta\n",
    "\n",
    "delta = dateutil.relativedelta.relativedelta(dt1, dt2)\n",
    "delta"
   ]
  },
  {
   "cell_type": "code",
   "execution_count": 106,
   "id": "d29a1d51",
   "metadata": {},
   "outputs": [
    {
     "data": {
      "text/plain": [
       "(2, 8, 17, 18, 14, 38, 339192)"
      ]
     },
     "execution_count": 106,
     "metadata": {},
     "output_type": "execute_result"
    }
   ],
   "source": [
    "delta.years, delta.months, delta.days, delta.hours, delta.minutes, delta.seconds, delta.microseconds"
   ]
  },
  {
   "cell_type": "markdown",
   "id": "95a367fd",
   "metadata": {},
   "source": [
    "On one hand `relativedelta` work great with two dates and getting more detailed information about the duration between those two dates. On the other we can use relative delta to calculate new dates based on a date and a delta. \n",
    "\n",
    "For example we can calculate first/last day of the current month."
   ]
  },
  {
   "cell_type": "code",
   "execution_count": 107,
   "id": "f789abe4",
   "metadata": {},
   "outputs": [],
   "source": [
    "dt_now = datetime.datetime.now()"
   ]
  },
  {
   "cell_type": "markdown",
   "id": "4a50d9e6",
   "metadata": {},
   "source": [
    "We can set a fixed value for year, month, day, etc. that is based on the current (or any) date."
   ]
  },
  {
   "cell_type": "code",
   "execution_count": 108,
   "id": "6c28762c",
   "metadata": {},
   "outputs": [
    {
     "data": {
      "text/plain": [
       "datetime.datetime(2023, 3, 1, 9, 42, 34, 842723)"
      ]
     },
     "execution_count": 108,
     "metadata": {},
     "output_type": "execute_result"
    }
   ],
   "source": [
    "dt_now + relativedelta(day=1)"
   ]
  },
  {
   "cell_type": "code",
   "execution_count": 110,
   "id": "0504f4e0",
   "metadata": {},
   "outputs": [
    {
     "data": {
      "text/plain": [
       "datetime.datetime(2023, 1, 1, 9, 42, 34, 842723)"
      ]
     },
     "execution_count": 110,
     "metadata": {},
     "output_type": "execute_result"
    }
   ],
   "source": [
    "dt_now + relativedelta(month=1, day=1)"
   ]
  },
  {
   "cell_type": "markdown",
   "id": "108a4e9c",
   "metadata": {},
   "source": [
    "We can add or substract any number of days, months or years to the current (or any) date."
   ]
  },
  {
   "cell_type": "code",
   "execution_count": 111,
   "id": "1590352d",
   "metadata": {},
   "outputs": [
    {
     "data": {
      "text/plain": [
       "datetime.datetime(2023, 3, 12, 9, 42, 34, 842723)"
      ]
     },
     "execution_count": 111,
     "metadata": {},
     "output_type": "execute_result"
    }
   ],
   "source": [
    "dt_now + relativedelta(days=7)"
   ]
  },
  {
   "cell_type": "code",
   "execution_count": 113,
   "id": "7d06657d",
   "metadata": {},
   "outputs": [
    {
     "data": {
      "text/plain": [
       "datetime.datetime(2023, 4, 12, 9, 42, 34, 842723)"
      ]
     },
     "execution_count": 113,
     "metadata": {},
     "output_type": "execute_result"
    }
   ],
   "source": [
    "dt_now + relativedelta(months=1, days=7)"
   ]
  },
  {
   "cell_type": "code",
   "execution_count": 117,
   "id": "e8dddbad",
   "metadata": {},
   "outputs": [
    {
     "data": {
      "text/plain": [
       "datetime.datetime(2023, 1, 29, 9, 42, 34, 842723)"
      ]
     },
     "execution_count": 117,
     "metadata": {},
     "output_type": "execute_result"
    }
   ],
   "source": [
    "dt_now - relativedelta(months=1, days=7)"
   ]
  },
  {
   "cell_type": "code",
   "execution_count": 119,
   "id": "128f57e9",
   "metadata": {},
   "outputs": [
    {
     "data": {
      "text/plain": [
       "datetime.datetime(2023, 1, 29, 9, 42, 34, 842723)"
      ]
     },
     "execution_count": 119,
     "metadata": {},
     "output_type": "execute_result"
    }
   ],
   "source": [
    "dt_now + relativedelta(months=-1, days=-7)"
   ]
  },
  {
   "cell_type": "markdown",
   "id": "08902be6",
   "metadata": {},
   "source": [
    "We can combine both setting particular value with adding/substracting a value."
   ]
  },
  {
   "cell_type": "code",
   "execution_count": 121,
   "id": "15b99805",
   "metadata": {},
   "outputs": [
    {
     "data": {
      "text/plain": [
       "datetime.datetime(2023, 2, 1, 9, 42, 34, 842723)"
      ]
     },
     "execution_count": 121,
     "metadata": {},
     "output_type": "execute_result"
    }
   ],
   "source": [
    "# first day of last month\n",
    "dt_now - relativedelta(months=1, day=1)"
   ]
  },
  {
   "cell_type": "code",
   "execution_count": 123,
   "id": "eb0b9f0c",
   "metadata": {},
   "outputs": [
    {
     "data": {
      "text/plain": [
       "datetime.datetime(2023, 2, 28, 9, 42, 34, 842723)"
      ]
     },
     "execution_count": 123,
     "metadata": {},
     "output_type": "execute_result"
    }
   ],
   "source": [
    "# last day of last month, works well with February\n",
    "dt_now - relativedelta(months=1, day=31)"
   ]
  },
  {
   "cell_type": "code",
   "execution_count": 125,
   "id": "360a1441",
   "metadata": {},
   "outputs": [
    {
     "data": {
      "text/plain": [
       "datetime.datetime(2023, 4, 30, 9, 42, 34, 842723)"
      ]
     },
     "execution_count": 125,
     "metadata": {},
     "output_type": "execute_result"
    }
   ],
   "source": [
    "# will work as well for April\n",
    "dt_now + relativedelta(months=1, day=31)"
   ]
  },
  {
   "cell_type": "code",
   "execution_count": 127,
   "id": "1441fc70",
   "metadata": {},
   "outputs": [
    {
     "data": {
      "text/plain": [
       "datetime.datetime(2023, 3, 1, 9, 42, 34, 842723)"
      ]
     },
     "execution_count": 127,
     "metadata": {},
     "output_type": "execute_result"
    }
   ],
   "source": [
    "# first day of current month\n",
    "dt_now + relativedelta(day=1)"
   ]
  },
  {
   "cell_type": "code",
   "execution_count": 128,
   "id": "1ef0bfe7",
   "metadata": {},
   "outputs": [
    {
     "data": {
      "text/plain": [
       "datetime.datetime(2023, 3, 31, 9, 42, 34, 842723)"
      ]
     },
     "execution_count": 128,
     "metadata": {},
     "output_type": "execute_result"
    }
   ],
   "source": [
    "# last day of current month\n",
    "dt_now + relativedelta(day=31)"
   ]
  }
 ],
 "metadata": {
  "kernelspec": {
   "display_name": "Python 3.9.7 64-bit ('base': conda)",
   "language": "python",
   "name": "python397jvsc74a57bd040d3a090f54c6569ab1632332b64b2c03c39dcf918b08424e98f38b5ae0af88f"
  },
  "language_info": {
   "codemirror_mode": {
    "name": "ipython",
    "version": 3
   },
   "file_extension": ".py",
   "mimetype": "text/x-python",
   "name": "python",
   "nbconvert_exporter": "python",
   "pygments_lexer": "ipython3",
   "version": "3.9.7"
  }
 },
 "nbformat": 4,
 "nbformat_minor": 5
}
